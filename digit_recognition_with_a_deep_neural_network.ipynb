{
 "cells": [
  {
   "cell_type": "code",
   "execution_count": 1,
   "source": [
    "import numpy as np # linear algebra\r\n",
    "import pandas as pd # data processing, CSV file I/O (e.g. pd.read_csv)\r\n",
    "import matplotlib.pyplot as plt\r\n",
    "#import seaborn as sn\r\n",
    "from sklearn.model_selection import train_test_split\r\n",
    "\r\n",
    "from random import seed\r\n",
    "seed(1)\r\n",
    "\r\n",
    "\r\n",
    "import tensorflow as tf\r\n",
    "from tensorflow import keras\r\n",
    "print(\"Tensorflow Version: \", tf.__version__)\r\n",
    "print(\"Keras Version: \",keras.__version__)\r\n",
    "\r\n",
    "\r\n",
    "kaggle = 0 # Kaggle active 1\r\n",
    "\r\n",
    "if kaggle == 1 :\r\n",
    "    MNIST_PATH= '../input/digit-recognizer'\r\n",
    "else:\r\n",
    "    MNIST_PATH= '../Digit_Recognition_with_a_Deep_Neural_Network/data/input/digit-recognizer'\r\n",
    "\r\n",
    "\r\n",
    "\r\n",
    "import os\r\n",
    "for dirname, _, filenames in os.walk(MNIST_PATH): \r\n",
    "    for filename in filenames:\r\n",
    "        print(os.path.join(dirname, filename))\r\n",
    "        "
   ],
   "outputs": [
    {
     "output_type": "stream",
     "name": "stdout",
     "text": [
      "Tensorflow Version:  2.3.0\n",
      "Keras Version:  2.4.0\n",
      "../Digit_Recognition_with_a_Deep_Neural_Network/data/input/digit-recognizer\\sample_submission.csv\n",
      "../Digit_Recognition_with_a_Deep_Neural_Network/data/input/digit-recognizer\\test.csv\n",
      "../Digit_Recognition_with_a_Deep_Neural_Network/data/input/digit-recognizer\\train.csv\n"
     ]
    }
   ],
   "metadata": {}
  },
  {
   "cell_type": "markdown",
   "source": [
    "# Introduction - MNIST Training Competition\r\n",
    "Link to the topic: https://www.kaggle.com/c/digit-recognizer/data\r\n",
    "\r\n",
    "This is another Notebook to take a look into annother algorithm. Here I want to give the Deep Neural Network with the Framework Keras a try. As already mentioned in other notebooks, I will skip some explanations about the data set here. Moreover I will use the already discovered knowledge about the data and transform/prepare the data rightaway.\r\n",
    "\r\n",
    "If you are interested in some more clearly analysis of the dataset take a look into my other notebooks about the MNIS-dataset:\r\n",
    "- Another MNIST Try: https://www.kaggle.com/skiplik/another-mnist-try\r\n",
    "- First NN by Detecting Handwritten Characters: https://www.kaggle.com/skiplik/first-nn-by-detecting-handwritten-characters\r\n",
    "...\r\n",
    "\r\n",
    "\r\n"
   ],
   "metadata": {}
  },
  {
   "cell_type": "markdown",
   "source": [
    "# Get Data"
   ],
   "metadata": {}
  },
  {
   "cell_type": "code",
   "execution_count": 2,
   "source": [
    "# Data path and file\r\n",
    "#MNIST_PATH= '../input/digit-recognizer'\r\n",
    "#MNIST_PATH= '../Another_MNIST_try/data/input/digit-recognizer'\r\n",
    "CSV_FILE_TRAIN='train.csv'\r\n",
    "CSV_FILE_TEST='test.csv'\r\n",
    "\r\n",
    "def load_mnist_data(minist_path, csv_file):\r\n",
    "    csv_path = os.path.join(minist_path, csv_file)\r\n",
    "    return pd.read_csv(csv_path)\r\n",
    "\r\n",
    "def load_mnist_data_manuel(minist_path, csv_file):\r\n",
    "    csv_path = os.path.join(minist_path, csv_file)\r\n",
    "    csv_file = open(csv_path, 'r')\r\n",
    "    csv_data = csv_file.readlines()\r\n",
    "    csv_file.close()\r\n",
    "    return csv_data\r\n",
    "\r\n",
    "def split_train_val(data, val_ratio):\r\n",
    "    return \r\n",
    "    \r\n",
    "\r\n",
    "train = load_mnist_data(MNIST_PATH,CSV_FILE_TRAIN)\r\n",
    "test = load_mnist_data(MNIST_PATH,CSV_FILE_TEST)"
   ],
   "outputs": [],
   "metadata": {}
  },
  {
   "cell_type": "code",
   "execution_count": 3,
   "source": [
    "y = train['label'].copy()\r\n",
    "X = train.drop(['label'], axis=1)\r\n",
    "\r\n",
    "X_test = test.copy()"
   ],
   "outputs": [],
   "metadata": {}
  },
  {
   "cell_type": "markdown",
   "source": [
    "## Train / Val Split"
   ],
   "metadata": {}
  },
  {
   "cell_type": "code",
   "execution_count": 4,
   "source": [
    "X_train, X_val, y_train, y_val = train_test_split(X, y, random_state=43, test_size=0.25)"
   ],
   "outputs": [],
   "metadata": {}
  },
  {
   "cell_type": "code",
   "execution_count": 5,
   "source": [
    "print(\"X: \", X.shape)\r\n",
    "print(\"X_train: \", X_train.shape)\r\n",
    "print(\"X_val: \", X_val.shape)\r\n",
    "\r\n",
    "print(\"y_train: \", y_train.shape)\r\n",
    "print(\"y_val: \", y_val.shape)"
   ],
   "outputs": [
    {
     "output_type": "stream",
     "name": "stdout",
     "text": [
      "X:  (42000, 784)\n",
      "X_train:  (31500, 784)\n",
      "X_val:  (10500, 784)\n",
      "y_train:  (31500,)\n",
      "y_val:  (10500,)\n"
     ]
    }
   ],
   "metadata": {}
  },
  {
   "cell_type": "markdown",
   "source": [
    "## Building Transforming Piplines"
   ],
   "metadata": {}
  },
  {
   "cell_type": "code",
   "execution_count": 6,
   "source": [
    "from sklearn.pipeline import Pipeline\r\n",
    "from sklearn.preprocessing import Normalizer\r\n",
    "from sklearn.preprocessing import StandardScaler\r\n",
    "\r\n",
    "pipeline = Pipeline([\r\n",
    "    ('normalizer', Normalizer())\r\n",
    "    #('std_scalar',StandardScaler())\r\n",
    "])"
   ],
   "outputs": [],
   "metadata": {}
  },
  {
   "cell_type": "code",
   "execution_count": 7,
   "source": [
    "X_train_prep = pipeline.fit_transform(X_train)      # fitting the pipeline to the train and transform it\r\n",
    "X_val_prep = pipeline.transform(X_val)              # transform val data with this information"
   ],
   "outputs": [],
   "metadata": {}
  },
  {
   "cell_type": "markdown",
   "source": [
    "# Building a Deep Neural Network\r\n",
    "## Model Architecture"
   ],
   "metadata": {}
  },
  {
   "cell_type": "code",
   "execution_count": 8,
   "source": [
    "from tensorflow.keras.layers import Flatten\r\n",
    "from tensorflow.keras.layers import Dense\r\n",
    "\r\n",
    "model = keras.models.Sequential()\r\n",
    "\r\n",
    "model.add(Flatten(input_shape=[28,28]))\r\n",
    "model.add(Dense(300, activation=\"relu\"))\r\n",
    "model.add(Dense(300, activation=\"relu\"))\r\n",
    "model.add(Dense(300, activation=\"relu\"))\r\n",
    "model.add(Dense(10, activation=\"softmax\"))\r\n",
    "\r\n",
    "model.compile(\r\n",
    "    loss=\"sparse_categorical_crossentropy\",\r\n",
    "    optimizer=\"sgd\",\r\n",
    "    metrics=[\"accuracy\"] \r\n",
    ")\r\n"
   ],
   "outputs": [],
   "metadata": {}
  },
  {
   "cell_type": "code",
   "execution_count": 9,
   "source": [
    "model.summary()"
   ],
   "outputs": [
    {
     "output_type": "stream",
     "name": "stdout",
     "text": [
      "Model: \"sequential\"\n",
      "_________________________________________________________________\n",
      "Layer (type)                 Output Shape              Param #   \n",
      "=================================================================\n",
      "flatten (Flatten)            (None, 784)               0         \n",
      "_________________________________________________________________\n",
      "dense (Dense)                (None, 300)               235500    \n",
      "_________________________________________________________________\n",
      "dense_1 (Dense)              (None, 300)               90300     \n",
      "_________________________________________________________________\n",
      "dense_2 (Dense)              (None, 300)               90300     \n",
      "_________________________________________________________________\n",
      "dense_3 (Dense)              (None, 10)                3010      \n",
      "=================================================================\n",
      "Total params: 419,110\n",
      "Trainable params: 419,110\n",
      "Non-trainable params: 0\n",
      "_________________________________________________________________\n"
     ]
    }
   ],
   "metadata": {}
  },
  {
   "cell_type": "markdown",
   "source": [
    "## Model Visualization with Tensorboard (not for Kaggle)"
   ],
   "metadata": {}
  },
  {
   "cell_type": "code",
   "execution_count": 10,
   "source": [
    "root_logdir = \"../../tensorboard-logs\"\r\n",
    "#os.chdir(\"../Juypter-workspace/digit_recognition_with_a_deep_neural_network\")\r\n",
    "\r\n",
    "print(\"Relative root_logdir: \",root_logdir)\r\n",
    "\r\n",
    "def get_run_logdir():\r\n",
    "    import time\r\n",
    "    run_id = time.strftime(\"run_%Y_%m_%d-%H_%M_%S\")\r\n",
    "    return os.path.join(root_logdir,run_id)"
   ],
   "outputs": [
    {
     "output_type": "stream",
     "name": "stdout",
     "text": [
      "Relative root_logdir:  ../../tensorboard-logs\n"
     ]
    }
   ],
   "metadata": {}
  },
  {
   "cell_type": "code",
   "execution_count": 11,
   "source": [
    "run_logdir = get_run_logdir()\r\n",
    "\r\n",
    "print(\"Current run logdir for Tensorboard: \", run_logdir)"
   ],
   "outputs": [
    {
     "output_type": "stream",
     "name": "stdout",
     "text": [
      "Current run logdir for Tensorboard:  ../../tensorboard-logs\\run_2021_08_04-09_37_49\n"
     ]
    }
   ],
   "metadata": {}
  },
  {
   "cell_type": "markdown",
   "source": [
    "### Keras Callbacks for Tensorboard\r\n",
    "With Keras there is a way of using Callbacks for the Tensorboard to write log files for the board and visualize the different graphs (loss and val curve)\r\n"
   ],
   "metadata": {}
  },
  {
   "cell_type": "code",
   "execution_count": 12,
   "source": [
    "tensorboard_cb = keras.callbacks.TensorBoard(run_logdir)"
   ],
   "outputs": [],
   "metadata": {}
  },
  {
   "cell_type": "markdown",
   "source": [
    "## Model Training"
   ],
   "metadata": {}
  },
  {
   "cell_type": "code",
   "execution_count": 13,
   "source": [
    "history = model.fit(X_train_prep, y_train, epochs=150, validation_data=(X_val_prep, y_val), callbacks=[tensorboard_cb] )"
   ],
   "outputs": [
    {
     "output_type": "stream",
     "name": "stdout",
     "text": [
      "Epoch 1/150\n",
      "WARNING:tensorflow:Model was constructed with shape (None, 28, 28) for input Tensor(\"flatten_input:0\", shape=(None, 28, 28), dtype=float32), but it was called on an input with incompatible shape (None, 784).\n",
      "WARNING:tensorflow:Model was constructed with shape (None, 28, 28) for input Tensor(\"flatten_input:0\", shape=(None, 28, 28), dtype=float32), but it was called on an input with incompatible shape (None, 784).\n",
      "  1/985 [..............................] - ETA: 0s - loss: 2.3066 - accuracy: 0.0625WARNING:tensorflow:From D:\\anaconda3\\envs\\wingpuflake_keras\\lib\\site-packages\\tensorflow\\python\\ops\\summary_ops_v2.py:1277: stop (from tensorflow.python.eager.profiler) is deprecated and will be removed after 2020-07-01.\n",
      "Instructions for updating:\n",
      "use `tf.profiler.experimental.stop` instead.\n",
      "  2/985 [..............................] - ETA: 25s - loss: 2.3096 - accuracy: 0.0469WARNING:tensorflow:Callbacks method `on_train_batch_end` is slow compared to the batch time (batch time: 0.0025s vs `on_train_batch_end` time: 0.0490s). Check your callbacks.\n",
      "968/985 [============================>.] - ETA: 0s - loss: 2.2403 - accuracy: 0.3530WARNING:tensorflow:Model was constructed with shape (None, 28, 28) for input Tensor(\"flatten_input:0\", shape=(None, 28, 28), dtype=float32), but it was called on an input with incompatible shape (None, 784).\n",
      "985/985 [==============================] - 2s 2ms/step - loss: 2.2386 - accuracy: 0.3557 - val_loss: 2.1296 - val_accuracy: 0.5293\n",
      "Epoch 2/150\n",
      "985/985 [==============================] - 2s 2ms/step - loss: 1.7099 - accuracy: 0.6158 - val_loss: 1.1895 - val_accuracy: 0.6738\n",
      "Epoch 3/150\n",
      "985/985 [==============================] - 2s 2ms/step - loss: 0.8763 - accuracy: 0.7643 - val_loss: 0.6894 - val_accuracy: 0.8115\n",
      "Epoch 4/150\n",
      "985/985 [==============================] - 2s 2ms/step - loss: 0.5924 - accuracy: 0.8316 - val_loss: 0.5328 - val_accuracy: 0.8459\n",
      "Epoch 5/150\n",
      "985/985 [==============================] - 2s 2ms/step - loss: 0.4801 - accuracy: 0.8625 - val_loss: 0.4575 - val_accuracy: 0.8662\n",
      "Epoch 6/150\n",
      "985/985 [==============================] - 1s 2ms/step - loss: 0.4186 - accuracy: 0.8815 - val_loss: 0.4094 - val_accuracy: 0.8795\n",
      "Epoch 7/150\n",
      "985/985 [==============================] - 2s 2ms/step - loss: 0.3812 - accuracy: 0.8901 - val_loss: 0.3809 - val_accuracy: 0.8886\n",
      "Epoch 8/150\n",
      "985/985 [==============================] - 2s 2ms/step - loss: 0.3553 - accuracy: 0.8973 - val_loss: 0.3613 - val_accuracy: 0.8940\n",
      "Epoch 9/150\n",
      "985/985 [==============================] - 2s 2ms/step - loss: 0.3358 - accuracy: 0.9022 - val_loss: 0.3413 - val_accuracy: 0.8986\n",
      "Epoch 10/150\n",
      "985/985 [==============================] - 2s 2ms/step - loss: 0.3195 - accuracy: 0.9078 - val_loss: 0.3287 - val_accuracy: 0.9047\n",
      "Epoch 11/150\n",
      "985/985 [==============================] - 2s 2ms/step - loss: 0.3058 - accuracy: 0.9115 - val_loss: 0.3167 - val_accuracy: 0.9064\n",
      "Epoch 12/150\n",
      "985/985 [==============================] - 2s 2ms/step - loss: 0.2937 - accuracy: 0.9150 - val_loss: 0.3099 - val_accuracy: 0.9073\n",
      "Epoch 13/150\n",
      "985/985 [==============================] - 2s 2ms/step - loss: 0.2828 - accuracy: 0.9177 - val_loss: 0.2998 - val_accuracy: 0.9118\n",
      "Epoch 14/150\n",
      "985/985 [==============================] - 2s 2ms/step - loss: 0.2726 - accuracy: 0.9210 - val_loss: 0.2847 - val_accuracy: 0.9151\n",
      "Epoch 15/150\n",
      "985/985 [==============================] - 2s 2ms/step - loss: 0.2638 - accuracy: 0.9238 - val_loss: 0.2834 - val_accuracy: 0.9156\n",
      "Epoch 16/150\n",
      "985/985 [==============================] - 2s 2ms/step - loss: 0.2544 - accuracy: 0.9265 - val_loss: 0.2772 - val_accuracy: 0.9144\n",
      "Epoch 17/150\n",
      "985/985 [==============================] - 2s 2ms/step - loss: 0.2463 - accuracy: 0.9290 - val_loss: 0.2654 - val_accuracy: 0.9204\n",
      "Epoch 18/150\n",
      "985/985 [==============================] - 2s 2ms/step - loss: 0.2387 - accuracy: 0.9295 - val_loss: 0.2593 - val_accuracy: 0.9233\n",
      "Epoch 19/150\n",
      "985/985 [==============================] - 2s 2ms/step - loss: 0.2319 - accuracy: 0.9324 - val_loss: 0.2488 - val_accuracy: 0.9250\n",
      "Epoch 20/150\n",
      "985/985 [==============================] - 2s 2ms/step - loss: 0.2242 - accuracy: 0.9344 - val_loss: 0.2430 - val_accuracy: 0.9260\n",
      "Epoch 21/150\n",
      "985/985 [==============================] - 2s 2ms/step - loss: 0.2172 - accuracy: 0.9366 - val_loss: 0.2353 - val_accuracy: 0.9290\n",
      "Epoch 22/150\n",
      "985/985 [==============================] - 2s 2ms/step - loss: 0.2102 - accuracy: 0.9391 - val_loss: 0.2364 - val_accuracy: 0.9281\n",
      "Epoch 23/150\n",
      "985/985 [==============================] - 2s 2ms/step - loss: 0.2045 - accuracy: 0.9402 - val_loss: 0.2298 - val_accuracy: 0.9321\n",
      "Epoch 24/150\n",
      "985/985 [==============================] - 2s 2ms/step - loss: 0.1984 - accuracy: 0.9423 - val_loss: 0.2191 - val_accuracy: 0.9341\n",
      "Epoch 25/150\n",
      "985/985 [==============================] - 2s 2ms/step - loss: 0.1921 - accuracy: 0.9437 - val_loss: 0.2196 - val_accuracy: 0.9329\n",
      "Epoch 26/150\n",
      "985/985 [==============================] - 2s 2ms/step - loss: 0.1862 - accuracy: 0.9464 - val_loss: 0.2121 - val_accuracy: 0.9359\n",
      "Epoch 27/150\n",
      "985/985 [==============================] - 2s 2ms/step - loss: 0.1805 - accuracy: 0.9472 - val_loss: 0.2044 - val_accuracy: 0.9372\n",
      "Epoch 28/150\n",
      "985/985 [==============================] - 2s 2ms/step - loss: 0.1751 - accuracy: 0.9497 - val_loss: 0.2003 - val_accuracy: 0.9370\n",
      "Epoch 29/150\n",
      "985/985 [==============================] - 2s 2ms/step - loss: 0.1691 - accuracy: 0.9504 - val_loss: 0.1936 - val_accuracy: 0.9408\n",
      "Epoch 30/150\n",
      "985/985 [==============================] - 2s 2ms/step - loss: 0.1650 - accuracy: 0.9525 - val_loss: 0.1982 - val_accuracy: 0.9402\n",
      "Epoch 31/150\n",
      "985/985 [==============================] - 2s 2ms/step - loss: 0.1596 - accuracy: 0.9539 - val_loss: 0.1899 - val_accuracy: 0.9430\n",
      "Epoch 32/150\n",
      "985/985 [==============================] - 2s 2ms/step - loss: 0.1551 - accuracy: 0.9558 - val_loss: 0.1879 - val_accuracy: 0.9430\n",
      "Epoch 33/150\n",
      "985/985 [==============================] - 2s 2ms/step - loss: 0.1508 - accuracy: 0.9566 - val_loss: 0.1820 - val_accuracy: 0.9440\n",
      "Epoch 34/150\n",
      "985/985 [==============================] - 2s 2ms/step - loss: 0.1464 - accuracy: 0.9584 - val_loss: 0.1766 - val_accuracy: 0.9457\n",
      "Epoch 35/150\n",
      "985/985 [==============================] - 2s 2ms/step - loss: 0.1419 - accuracy: 0.9592 - val_loss: 0.1739 - val_accuracy: 0.9465\n",
      "Epoch 36/150\n",
      "985/985 [==============================] - 2s 2ms/step - loss: 0.1383 - accuracy: 0.9604 - val_loss: 0.1792 - val_accuracy: 0.9457\n",
      "Epoch 37/150\n",
      "985/985 [==============================] - 2s 2ms/step - loss: 0.1341 - accuracy: 0.9614 - val_loss: 0.1707 - val_accuracy: 0.9474\n",
      "Epoch 38/150\n",
      "985/985 [==============================] - 2s 2ms/step - loss: 0.1298 - accuracy: 0.9621 - val_loss: 0.1674 - val_accuracy: 0.9470\n",
      "Epoch 39/150\n",
      "985/985 [==============================] - 1s 2ms/step - loss: 0.1265 - accuracy: 0.9637 - val_loss: 0.1700 - val_accuracy: 0.9495\n",
      "Epoch 40/150\n",
      "985/985 [==============================] - 1s 2ms/step - loss: 0.1233 - accuracy: 0.9638 - val_loss: 0.1628 - val_accuracy: 0.9500\n",
      "Epoch 41/150\n",
      "985/985 [==============================] - 2s 2ms/step - loss: 0.1193 - accuracy: 0.9660 - val_loss: 0.1581 - val_accuracy: 0.9528\n",
      "Epoch 42/150\n",
      "985/985 [==============================] - 2s 2ms/step - loss: 0.1167 - accuracy: 0.9673 - val_loss: 0.1541 - val_accuracy: 0.9520\n",
      "Epoch 43/150\n",
      "985/985 [==============================] - 2s 2ms/step - loss: 0.1128 - accuracy: 0.9677 - val_loss: 0.1569 - val_accuracy: 0.9538\n",
      "Epoch 44/150\n",
      "985/985 [==============================] - 2s 2ms/step - loss: 0.1103 - accuracy: 0.9685 - val_loss: 0.1503 - val_accuracy: 0.9540\n",
      "Epoch 45/150\n",
      "985/985 [==============================] - 2s 2ms/step - loss: 0.1072 - accuracy: 0.9693 - val_loss: 0.1477 - val_accuracy: 0.9542\n",
      "Epoch 46/150\n",
      "985/985 [==============================] - 2s 2ms/step - loss: 0.1038 - accuracy: 0.9706 - val_loss: 0.1494 - val_accuracy: 0.9545\n",
      "Epoch 47/150\n",
      "985/985 [==============================] - 2s 2ms/step - loss: 0.1015 - accuracy: 0.9708 - val_loss: 0.1486 - val_accuracy: 0.9549\n",
      "Epoch 48/150\n",
      "985/985 [==============================] - 2s 2ms/step - loss: 0.0989 - accuracy: 0.9720 - val_loss: 0.1426 - val_accuracy: 0.9561\n",
      "Epoch 49/150\n",
      "985/985 [==============================] - 2s 2ms/step - loss: 0.0965 - accuracy: 0.9723 - val_loss: 0.1418 - val_accuracy: 0.9564\n",
      "Epoch 50/150\n",
      "985/985 [==============================] - 2s 2ms/step - loss: 0.0934 - accuracy: 0.9733 - val_loss: 0.1377 - val_accuracy: 0.9576\n",
      "Epoch 51/150\n",
      "985/985 [==============================] - 2s 2ms/step - loss: 0.0915 - accuracy: 0.9732 - val_loss: 0.1374 - val_accuracy: 0.9579\n",
      "Epoch 52/150\n",
      "985/985 [==============================] - 2s 2ms/step - loss: 0.0889 - accuracy: 0.9746 - val_loss: 0.1388 - val_accuracy: 0.9577\n",
      "Epoch 53/150\n",
      "985/985 [==============================] - 1s 1ms/step - loss: 0.0860 - accuracy: 0.9765 - val_loss: 0.1351 - val_accuracy: 0.9595\n",
      "Epoch 54/150\n",
      "985/985 [==============================] - 2s 2ms/step - loss: 0.0841 - accuracy: 0.9761 - val_loss: 0.1323 - val_accuracy: 0.9596\n",
      "Epoch 55/150\n",
      "985/985 [==============================] - 2s 2ms/step - loss: 0.0818 - accuracy: 0.9770 - val_loss: 0.1305 - val_accuracy: 0.9606\n",
      "Epoch 56/150\n",
      "985/985 [==============================] - 2s 2ms/step - loss: 0.0797 - accuracy: 0.9777 - val_loss: 0.1329 - val_accuracy: 0.9590\n",
      "Epoch 57/150\n",
      "985/985 [==============================] - 2s 2ms/step - loss: 0.0775 - accuracy: 0.9781 - val_loss: 0.1310 - val_accuracy: 0.9605\n",
      "Epoch 58/150\n",
      "985/985 [==============================] - 2s 2ms/step - loss: 0.0751 - accuracy: 0.9789 - val_loss: 0.1275 - val_accuracy: 0.9614\n",
      "Epoch 59/150\n",
      "985/985 [==============================] - 2s 2ms/step - loss: 0.0735 - accuracy: 0.9798 - val_loss: 0.1261 - val_accuracy: 0.9626\n",
      "Epoch 60/150\n",
      "985/985 [==============================] - 2s 2ms/step - loss: 0.0716 - accuracy: 0.9800 - val_loss: 0.1274 - val_accuracy: 0.9612\n",
      "Epoch 61/150\n",
      "985/985 [==============================] - 2s 2ms/step - loss: 0.0697 - accuracy: 0.9808 - val_loss: 0.1307 - val_accuracy: 0.9603\n",
      "Epoch 62/150\n",
      "985/985 [==============================] - 2s 2ms/step - loss: 0.0680 - accuracy: 0.9810 - val_loss: 0.1239 - val_accuracy: 0.9628\n",
      "Epoch 63/150\n",
      "985/985 [==============================] - 2s 2ms/step - loss: 0.0659 - accuracy: 0.9822 - val_loss: 0.1234 - val_accuracy: 0.9625\n",
      "Epoch 64/150\n",
      "985/985 [==============================] - 2s 2ms/step - loss: 0.0643 - accuracy: 0.9819 - val_loss: 0.1243 - val_accuracy: 0.9615\n",
      "Epoch 65/150\n",
      "985/985 [==============================] - 2s 2ms/step - loss: 0.0625 - accuracy: 0.9829 - val_loss: 0.1192 - val_accuracy: 0.9633\n",
      "Epoch 66/150\n",
      "985/985 [==============================] - 2s 2ms/step - loss: 0.0610 - accuracy: 0.9833 - val_loss: 0.1173 - val_accuracy: 0.9645\n",
      "Epoch 67/150\n",
      "985/985 [==============================] - 2s 2ms/step - loss: 0.0597 - accuracy: 0.9839 - val_loss: 0.1183 - val_accuracy: 0.9642\n",
      "Epoch 68/150\n",
      "985/985 [==============================] - 2s 2ms/step - loss: 0.0582 - accuracy: 0.9842 - val_loss: 0.1161 - val_accuracy: 0.9650\n",
      "Epoch 69/150\n",
      "985/985 [==============================] - 2s 2ms/step - loss: 0.0563 - accuracy: 0.9845 - val_loss: 0.1165 - val_accuracy: 0.9667\n",
      "Epoch 70/150\n",
      "985/985 [==============================] - 2s 2ms/step - loss: 0.0550 - accuracy: 0.9854 - val_loss: 0.1143 - val_accuracy: 0.9665\n",
      "Epoch 71/150\n",
      "985/985 [==============================] - 2s 2ms/step - loss: 0.0533 - accuracy: 0.9862 - val_loss: 0.1186 - val_accuracy: 0.9638\n",
      "Epoch 72/150\n",
      "985/985 [==============================] - 2s 2ms/step - loss: 0.0522 - accuracy: 0.9861 - val_loss: 0.1134 - val_accuracy: 0.9673\n",
      "Epoch 73/150\n",
      "985/985 [==============================] - 2s 2ms/step - loss: 0.0507 - accuracy: 0.9872 - val_loss: 0.1341 - val_accuracy: 0.9597\n",
      "Epoch 74/150\n",
      "985/985 [==============================] - 2s 2ms/step - loss: 0.0494 - accuracy: 0.9870 - val_loss: 0.1126 - val_accuracy: 0.9662\n",
      "Epoch 75/150\n",
      "985/985 [==============================] - 2s 2ms/step - loss: 0.0481 - accuracy: 0.9876 - val_loss: 0.1172 - val_accuracy: 0.9649\n",
      "Epoch 76/150\n",
      "985/985 [==============================] - 2s 2ms/step - loss: 0.0470 - accuracy: 0.9882 - val_loss: 0.1136 - val_accuracy: 0.9665\n",
      "Epoch 77/150\n",
      "985/985 [==============================] - 2s 2ms/step - loss: 0.0458 - accuracy: 0.9883 - val_loss: 0.1125 - val_accuracy: 0.9656\n",
      "Epoch 78/150\n",
      "985/985 [==============================] - 2s 2ms/step - loss: 0.0444 - accuracy: 0.9886 - val_loss: 0.1116 - val_accuracy: 0.9671\n",
      "Epoch 79/150\n",
      "985/985 [==============================] - 2s 2ms/step - loss: 0.0431 - accuracy: 0.9891 - val_loss: 0.1106 - val_accuracy: 0.9670\n",
      "Epoch 80/150\n",
      "985/985 [==============================] - 2s 2ms/step - loss: 0.0421 - accuracy: 0.9896 - val_loss: 0.1095 - val_accuracy: 0.9678\n",
      "Epoch 81/150\n",
      "985/985 [==============================] - 2s 2ms/step - loss: 0.0411 - accuracy: 0.9892 - val_loss: 0.1107 - val_accuracy: 0.9671\n",
      "Epoch 82/150\n",
      "985/985 [==============================] - 2s 2ms/step - loss: 0.0396 - accuracy: 0.9905 - val_loss: 0.1102 - val_accuracy: 0.9684\n",
      "Epoch 83/150\n",
      "985/985 [==============================] - 2s 2ms/step - loss: 0.0388 - accuracy: 0.9904 - val_loss: 0.1109 - val_accuracy: 0.9678\n",
      "Epoch 84/150\n",
      "985/985 [==============================] - 2s 2ms/step - loss: 0.0377 - accuracy: 0.9906 - val_loss: 0.1102 - val_accuracy: 0.9677\n",
      "Epoch 85/150\n",
      "985/985 [==============================] - 2s 2ms/step - loss: 0.0368 - accuracy: 0.9911 - val_loss: 0.1111 - val_accuracy: 0.9685\n",
      "Epoch 86/150\n",
      "985/985 [==============================] - 2s 2ms/step - loss: 0.0358 - accuracy: 0.9914 - val_loss: 0.1076 - val_accuracy: 0.9690\n",
      "Epoch 87/150\n",
      "985/985 [==============================] - 2s 2ms/step - loss: 0.0350 - accuracy: 0.9913 - val_loss: 0.1107 - val_accuracy: 0.9681\n",
      "Epoch 88/150\n",
      "985/985 [==============================] - 2s 2ms/step - loss: 0.0339 - accuracy: 0.9922 - val_loss: 0.1079 - val_accuracy: 0.9691\n",
      "Epoch 89/150\n",
      "985/985 [==============================] - 2s 2ms/step - loss: 0.0328 - accuracy: 0.9923 - val_loss: 0.1107 - val_accuracy: 0.9670\n",
      "Epoch 90/150\n",
      "985/985 [==============================] - 2s 2ms/step - loss: 0.0324 - accuracy: 0.9923 - val_loss: 0.1074 - val_accuracy: 0.9684\n",
      "Epoch 91/150\n",
      "985/985 [==============================] - 2s 2ms/step - loss: 0.0315 - accuracy: 0.9927 - val_loss: 0.1068 - val_accuracy: 0.9690\n",
      "Epoch 92/150\n",
      "985/985 [==============================] - 2s 2ms/step - loss: 0.0304 - accuracy: 0.9933 - val_loss: 0.1068 - val_accuracy: 0.9690\n",
      "Epoch 93/150\n",
      "985/985 [==============================] - 2s 2ms/step - loss: 0.0297 - accuracy: 0.9936 - val_loss: 0.1078 - val_accuracy: 0.9689\n",
      "Epoch 94/150\n",
      "985/985 [==============================] - 2s 2ms/step - loss: 0.0288 - accuracy: 0.9937 - val_loss: 0.1070 - val_accuracy: 0.9689\n",
      "Epoch 95/150\n",
      "985/985 [==============================] - 2s 2ms/step - loss: 0.0279 - accuracy: 0.9938 - val_loss: 0.1049 - val_accuracy: 0.9696\n",
      "Epoch 96/150\n",
      "985/985 [==============================] - 2s 2ms/step - loss: 0.0271 - accuracy: 0.9945 - val_loss: 0.1063 - val_accuracy: 0.9699\n",
      "Epoch 97/150\n",
      "985/985 [==============================] - 2s 2ms/step - loss: 0.0264 - accuracy: 0.9946 - val_loss: 0.1051 - val_accuracy: 0.9700\n",
      "Epoch 98/150\n",
      "985/985 [==============================] - 2s 2ms/step - loss: 0.0259 - accuracy: 0.9945 - val_loss: 0.1243 - val_accuracy: 0.9631\n",
      "Epoch 99/150\n",
      "985/985 [==============================] - 2s 2ms/step - loss: 0.0252 - accuracy: 0.9950 - val_loss: 0.1069 - val_accuracy: 0.9689\n",
      "Epoch 100/150\n",
      "985/985 [==============================] - 2s 2ms/step - loss: 0.0242 - accuracy: 0.9951 - val_loss: 0.1100 - val_accuracy: 0.9679\n",
      "Epoch 101/150\n",
      "985/985 [==============================] - 2s 2ms/step - loss: 0.0241 - accuracy: 0.9949 - val_loss: 0.1060 - val_accuracy: 0.9704\n",
      "Epoch 102/150\n",
      "985/985 [==============================] - 2s 2ms/step - loss: 0.0231 - accuracy: 0.9953 - val_loss: 0.1051 - val_accuracy: 0.9698\n",
      "Epoch 103/150\n",
      "985/985 [==============================] - 2s 2ms/step - loss: 0.0223 - accuracy: 0.9959 - val_loss: 0.1057 - val_accuracy: 0.9694\n",
      "Epoch 104/150\n",
      "985/985 [==============================] - 2s 2ms/step - loss: 0.0220 - accuracy: 0.9960 - val_loss: 0.1067 - val_accuracy: 0.9688\n",
      "Epoch 105/150\n",
      "985/985 [==============================] - 2s 2ms/step - loss: 0.0213 - accuracy: 0.9961 - val_loss: 0.1052 - val_accuracy: 0.9689\n",
      "Epoch 106/150\n",
      "985/985 [==============================] - 1s 2ms/step - loss: 0.0209 - accuracy: 0.9960 - val_loss: 0.1068 - val_accuracy: 0.9700\n",
      "Epoch 107/150\n",
      "985/985 [==============================] - 2s 2ms/step - loss: 0.0202 - accuracy: 0.9966 - val_loss: 0.1078 - val_accuracy: 0.9692\n",
      "Epoch 108/150\n",
      "985/985 [==============================] - 2s 2ms/step - loss: 0.0195 - accuracy: 0.9966 - val_loss: 0.1123 - val_accuracy: 0.9677\n",
      "Epoch 109/150\n",
      "985/985 [==============================] - 2s 2ms/step - loss: 0.0192 - accuracy: 0.9969 - val_loss: 0.1065 - val_accuracy: 0.9701\n",
      "Epoch 110/150\n",
      "985/985 [==============================] - 2s 2ms/step - loss: 0.0187 - accuracy: 0.9968 - val_loss: 0.1065 - val_accuracy: 0.9705\n",
      "Epoch 111/150\n",
      "985/985 [==============================] - 2s 2ms/step - loss: 0.0183 - accuracy: 0.9971 - val_loss: 0.1081 - val_accuracy: 0.9682\n",
      "Epoch 112/150\n",
      "985/985 [==============================] - 2s 2ms/step - loss: 0.0177 - accuracy: 0.9971 - val_loss: 0.1071 - val_accuracy: 0.9693\n",
      "Epoch 113/150\n",
      "985/985 [==============================] - 2s 2ms/step - loss: 0.0171 - accuracy: 0.9974 - val_loss: 0.1138 - val_accuracy: 0.9693\n",
      "Epoch 114/150\n",
      "985/985 [==============================] - 2s 2ms/step - loss: 0.0166 - accuracy: 0.9975 - val_loss: 0.1065 - val_accuracy: 0.9702\n",
      "Epoch 115/150\n",
      "985/985 [==============================] - 2s 2ms/step - loss: 0.0163 - accuracy: 0.9974 - val_loss: 0.1095 - val_accuracy: 0.9690\n",
      "Epoch 116/150\n",
      "985/985 [==============================] - 2s 2ms/step - loss: 0.0158 - accuracy: 0.9976 - val_loss: 0.1068 - val_accuracy: 0.9690\n",
      "Epoch 117/150\n",
      "985/985 [==============================] - 2s 2ms/step - loss: 0.0154 - accuracy: 0.9978 - val_loss: 0.1067 - val_accuracy: 0.9707\n",
      "Epoch 118/150\n",
      "985/985 [==============================] - 2s 2ms/step - loss: 0.0150 - accuracy: 0.9979 - val_loss: 0.1085 - val_accuracy: 0.9702\n",
      "Epoch 119/150\n",
      "985/985 [==============================] - 2s 2ms/step - loss: 0.0145 - accuracy: 0.9981 - val_loss: 0.1115 - val_accuracy: 0.9685\n",
      "Epoch 120/150\n",
      "985/985 [==============================] - 2s 2ms/step - loss: 0.0141 - accuracy: 0.9982 - val_loss: 0.1084 - val_accuracy: 0.9695\n",
      "Epoch 121/150\n",
      "985/985 [==============================] - 2s 2ms/step - loss: 0.0136 - accuracy: 0.9983 - val_loss: 0.1082 - val_accuracy: 0.9693\n",
      "Epoch 122/150\n",
      "985/985 [==============================] - 2s 2ms/step - loss: 0.0132 - accuracy: 0.9984 - val_loss: 0.1092 - val_accuracy: 0.9697\n",
      "Epoch 123/150\n",
      "985/985 [==============================] - 2s 2ms/step - loss: 0.0130 - accuracy: 0.9981 - val_loss: 0.1074 - val_accuracy: 0.9707\n",
      "Epoch 124/150\n",
      "985/985 [==============================] - 2s 2ms/step - loss: 0.0127 - accuracy: 0.9983 - val_loss: 0.1090 - val_accuracy: 0.9695\n",
      "Epoch 125/150\n",
      "985/985 [==============================] - 2s 2ms/step - loss: 0.0123 - accuracy: 0.9984 - val_loss: 0.1103 - val_accuracy: 0.9695\n",
      "Epoch 126/150\n",
      "985/985 [==============================] - 2s 2ms/step - loss: 0.0120 - accuracy: 0.9986 - val_loss: 0.1079 - val_accuracy: 0.9703\n",
      "Epoch 127/150\n",
      "985/985 [==============================] - 2s 2ms/step - loss: 0.0117 - accuracy: 0.9987 - val_loss: 0.1084 - val_accuracy: 0.9697\n",
      "Epoch 128/150\n",
      "985/985 [==============================] - 2s 2ms/step - loss: 0.0115 - accuracy: 0.9987 - val_loss: 0.1084 - val_accuracy: 0.9698\n",
      "Epoch 129/150\n",
      "985/985 [==============================] - 2s 2ms/step - loss: 0.0111 - accuracy: 0.9988 - val_loss: 0.1083 - val_accuracy: 0.9698\n",
      "Epoch 130/150\n",
      "985/985 [==============================] - 2s 2ms/step - loss: 0.0107 - accuracy: 0.9990 - val_loss: 0.1209 - val_accuracy: 0.9650\n",
      "Epoch 131/150\n",
      "985/985 [==============================] - 2s 2ms/step - loss: 0.0106 - accuracy: 0.9989 - val_loss: 0.1091 - val_accuracy: 0.9699\n",
      "Epoch 132/150\n",
      "985/985 [==============================] - 2s 2ms/step - loss: 0.0103 - accuracy: 0.9989 - val_loss: 0.1099 - val_accuracy: 0.9690\n",
      "Epoch 133/150\n",
      "985/985 [==============================] - 2s 2ms/step - loss: 0.0099 - accuracy: 0.9990 - val_loss: 0.1138 - val_accuracy: 0.9701\n",
      "Epoch 134/150\n",
      "985/985 [==============================] - 2s 2ms/step - loss: 0.0099 - accuracy: 0.9990 - val_loss: 0.1099 - val_accuracy: 0.9690\n",
      "Epoch 135/150\n",
      "985/985 [==============================] - 2s 2ms/step - loss: 0.0096 - accuracy: 0.9990 - val_loss: 0.1091 - val_accuracy: 0.9709\n",
      "Epoch 136/150\n",
      "985/985 [==============================] - 2s 2ms/step - loss: 0.0093 - accuracy: 0.9990 - val_loss: 0.1169 - val_accuracy: 0.9680\n",
      "Epoch 137/150\n",
      "985/985 [==============================] - 2s 2ms/step - loss: 0.0091 - accuracy: 0.9991 - val_loss: 0.1089 - val_accuracy: 0.9708\n",
      "Epoch 138/150\n",
      "985/985 [==============================] - 2s 2ms/step - loss: 0.0087 - accuracy: 0.9992 - val_loss: 0.1091 - val_accuracy: 0.9707\n",
      "Epoch 139/150\n",
      "985/985 [==============================] - 2s 2ms/step - loss: 0.0085 - accuracy: 0.9994 - val_loss: 0.1106 - val_accuracy: 0.9700\n",
      "Epoch 140/150\n",
      "985/985 [==============================] - 2s 2ms/step - loss: 0.0084 - accuracy: 0.9992 - val_loss: 0.1112 - val_accuracy: 0.9690\n",
      "Epoch 141/150\n",
      "985/985 [==============================] - 2s 2ms/step - loss: 0.0082 - accuracy: 0.9993 - val_loss: 0.1121 - val_accuracy: 0.9692\n",
      "Epoch 142/150\n",
      "985/985 [==============================] - 2s 2ms/step - loss: 0.0080 - accuracy: 0.9994 - val_loss: 0.1119 - val_accuracy: 0.9705\n",
      "Epoch 143/150\n",
      "985/985 [==============================] - 2s 2ms/step - loss: 0.0078 - accuracy: 0.9994 - val_loss: 0.1111 - val_accuracy: 0.9698\n",
      "Epoch 144/150\n",
      "985/985 [==============================] - 2s 2ms/step - loss: 0.0075 - accuracy: 0.9995 - val_loss: 0.1111 - val_accuracy: 0.9711\n",
      "Epoch 145/150\n",
      "985/985 [==============================] - 2s 2ms/step - loss: 0.0075 - accuracy: 0.9993 - val_loss: 0.1108 - val_accuracy: 0.9695\n",
      "Epoch 146/150\n",
      "985/985 [==============================] - 2s 2ms/step - loss: 0.0073 - accuracy: 0.9995 - val_loss: 0.1101 - val_accuracy: 0.9711\n",
      "Epoch 147/150\n",
      "985/985 [==============================] - 2s 2ms/step - loss: 0.0070 - accuracy: 0.9995 - val_loss: 0.1110 - val_accuracy: 0.9708\n",
      "Epoch 148/150\n",
      "985/985 [==============================] - 2s 2ms/step - loss: 0.0069 - accuracy: 0.9996 - val_loss: 0.1102 - val_accuracy: 0.9713\n",
      "Epoch 149/150\n",
      "985/985 [==============================] - 2s 2ms/step - loss: 0.0067 - accuracy: 0.9996 - val_loss: 0.1105 - val_accuracy: 0.9707\n",
      "Epoch 150/150\n",
      "985/985 [==============================] - 2s 2ms/step - loss: 0.0066 - accuracy: 0.9997 - val_loss: 0.1115 - val_accuracy: 0.9701\n"
     ]
    }
   ],
   "metadata": {}
  },
  {
   "cell_type": "markdown",
   "source": [
    "### Visualization of the first Train Loss Curves"
   ],
   "metadata": {}
  },
  {
   "cell_type": "code",
   "execution_count": 14,
   "source": [
    "import pandas as pd\r\n",
    "import matplotlib.pyplot as plt\r\n",
    "\r\n",
    "pd.DataFrame(history.history).plot(figsize =(8,5))\r\n",
    "plt.grid(True)"
   ],
   "outputs": [
    {
     "output_type": "display_data",
     "data": {
      "text/plain": [
       "<Figure size 576x360 with 1 Axes>"
      ],
      "image/png": "[encoded data removed]"
     },
     "metadata": {
      "needs_background": "light"
     }
    }
   ],
   "metadata": {}
  },
  {
   "cell_type": "markdown",
   "source": [
    "# Image Prediction of Unknown Data (Test Data)"
   ],
   "metadata": {}
  },
  {
   "cell_type": "markdown",
   "source": [
    "## Peparing Test Data"
   ],
   "metadata": {}
  },
  {
   "cell_type": "code",
   "execution_count": 15,
   "source": [
    "X_test_prep = pipeline.transform(X_test)"
   ],
   "outputs": [],
   "metadata": {}
  },
  {
   "cell_type": "code",
   "execution_count": 16,
   "source": [
    "X_test_prep"
   ],
   "outputs": [
    {
     "output_type": "execute_result",
     "data": {
      "text/plain": [
       "array([[0., 0., 0., ..., 0., 0., 0.],\n",
       "       [0., 0., 0., ..., 0., 0., 0.],\n",
       "       [0., 0., 0., ..., 0., 0., 0.],\n",
       "       ...,\n",
       "       [0., 0., 0., ..., 0., 0., 0.],\n",
       "       [0., 0., 0., ..., 0., 0., 0.],\n",
       "       [0., 0., 0., ..., 0., 0., 0.]])"
      ]
     },
     "metadata": {},
     "execution_count": 16
    }
   ],
   "metadata": {}
  },
  {
   "cell_type": "markdown",
   "source": [
    "## Creating Competition File"
   ],
   "metadata": {}
  },
  {
   "cell_type": "code",
   "execution_count": 17,
   "source": [
    "mnist_competition_file = pd.DataFrame(columns=['ImageId','Label'])"
   ],
   "outputs": [],
   "metadata": {}
  },
  {
   "cell_type": "markdown",
   "source": [
    "## Prediction of Testdata"
   ],
   "metadata": {}
  },
  {
   "cell_type": "code",
   "execution_count": 18,
   "source": [
    "print(\"Propability of all lables for given pixels: \", model.predict(X_test_prep[1].reshape(1,-1)))"
   ],
   "outputs": [
    {
     "output_type": "stream",
     "name": "stdout",
     "text": [
      "WARNING:tensorflow:Model was constructed with shape (None, 28, 28) for input Tensor(\"flatten_input:0\", shape=(None, 28, 28), dtype=float32), but it was called on an input with incompatible shape (None, 784).\n",
      "Propability of all lables for given pixels:  [[9.9999499e-01 2.6568248e-11 2.2298743e-06 1.8191459e-10 1.4954306e-13\n",
      "  2.4893773e-06 6.8518133e-08 1.3152025e-07 2.9100644e-11 3.1003439e-10]]\n"
     ]
    }
   ],
   "metadata": {}
  },
  {
   "cell_type": "code",
   "execution_count": 19,
   "source": [
    "print(\"Predicted Digit: \",np.argmax(model.predict(X_test_prep[1].reshape(1,-1))))"
   ],
   "outputs": [
    {
     "output_type": "stream",
     "name": "stdout",
     "text": [
      "Predicted Digit:  0\n"
     ]
    }
   ],
   "metadata": {}
  },
  {
   "cell_type": "code",
   "execution_count": 20,
   "source": [
    "i = 1\r\n",
    "for row in X_test_prep:\r\n",
    "    index = i\r\n",
    "    predicted_label = np.argmax(model.predict(row.reshape(1,-1)))\r\n",
    "\r\n",
    "    mnist_competition_file = mnist_competition_file.append({'ImageId': index, 'Label': predicted_label}, ignore_index = True )\r\n",
    "    i = i + 1\r\n",
    "    pass"
   ],
   "outputs": [],
   "metadata": {}
  },
  {
   "cell_type": "code",
   "execution_count": 21,
   "source": [
    "mnist_competition_file"
   ],
   "outputs": [
    {
     "output_type": "execute_result",
     "data": {
      "text/plain": [
       "      ImageId Label\n",
       "0           1     2\n",
       "1           2     0\n",
       "2           3     9\n",
       "3           4     9\n",
       "4           5     3\n",
       "...       ...   ...\n",
       "27995   27996     9\n",
       "27996   27997     7\n",
       "27997   27998     3\n",
       "27998   27999     9\n",
       "27999   28000     2\n",
       "\n",
       "[28000 rows x 2 columns]"
      ],
      "text/html": [
       "<div>\n",
       "<style scoped>\n",
       "    .dataframe tbody tr th:only-of-type {\n",
       "        vertical-align: middle;\n",
       "    }\n",
       "\n",
       "    .dataframe tbody tr th {\n",
       "        vertical-align: top;\n",
       "    }\n",
       "\n",
       "    .dataframe thead th {\n",
       "        text-align: right;\n",
       "    }\n",
       "</style>\n",
       "<table border=\"1\" class=\"dataframe\">\n",
       "  <thead>\n",
       "    <tr style=\"text-align: right;\">\n",
       "      <th></th>\n",
       "      <th>ImageId</th>\n",
       "      <th>Label</th>\n",
       "    </tr>\n",
       "  </thead>\n",
       "  <tbody>\n",
       "    <tr>\n",
       "      <th>0</th>\n",
       "      <td>1</td>\n",
       "      <td>2</td>\n",
       "    </tr>\n",
       "    <tr>\n",
       "      <th>1</th>\n",
       "      <td>2</td>\n",
       "      <td>0</td>\n",
       "    </tr>\n",
       "    <tr>\n",
       "      <th>2</th>\n",
       "      <td>3</td>\n",
       "      <td>9</td>\n",
       "    </tr>\n",
       "    <tr>\n",
       "      <th>3</th>\n",
       "      <td>4</td>\n",
       "      <td>9</td>\n",
       "    </tr>\n",
       "    <tr>\n",
       "      <th>4</th>\n",
       "      <td>5</td>\n",
       "      <td>3</td>\n",
       "    </tr>\n",
       "    <tr>\n",
       "      <th>...</th>\n",
       "      <td>...</td>\n",
       "      <td>...</td>\n",
       "    </tr>\n",
       "    <tr>\n",
       "      <th>27995</th>\n",
       "      <td>27996</td>\n",
       "      <td>9</td>\n",
       "    </tr>\n",
       "    <tr>\n",
       "      <th>27996</th>\n",
       "      <td>27997</td>\n",
       "      <td>7</td>\n",
       "    </tr>\n",
       "    <tr>\n",
       "      <th>27997</th>\n",
       "      <td>27998</td>\n",
       "      <td>3</td>\n",
       "    </tr>\n",
       "    <tr>\n",
       "      <th>27998</th>\n",
       "      <td>27999</td>\n",
       "      <td>9</td>\n",
       "    </tr>\n",
       "    <tr>\n",
       "      <th>27999</th>\n",
       "      <td>28000</td>\n",
       "      <td>2</td>\n",
       "    </tr>\n",
       "  </tbody>\n",
       "</table>\n",
       "<p>28000 rows × 2 columns</p>\n",
       "</div>"
      ]
     },
     "metadata": {},
     "execution_count": 21
    }
   ],
   "metadata": {}
  },
  {
   "cell_type": "code",
   "execution_count": 22,
   "source": [
    "mnist_competition_file.ImageId = mnist_competition_file.ImageId.astype(int)\r\n",
    "mnist_competition_file.Label = mnist_competition_file.Label.astype(int)"
   ],
   "outputs": [],
   "metadata": {}
  },
  {
   "cell_type": "code",
   "execution_count": 23,
   "source": [
    "mnist_competition_file.to_csv('mnist_submission.csv', index=False)"
   ],
   "outputs": [],
   "metadata": {}
  },
  {
   "cell_type": "code",
   "execution_count": null,
   "source": [],
   "outputs": [],
   "metadata": {}
  }
 ],
 "metadata": {
  "interpreter": {
   "hash": "2b49f70aa2f17b03439dc8f4bbaf601f728142d0d0d774f4bbd10ea7a16b86ea"
  },
  "kernelspec": {
   "name": "python3",
   "display_name": "Python 3.8.10 64-bit ('wingpuflake_keras': conda)"
  },
  "language_info": {
   "codemirror_mode": {
    "name": "ipython",
    "version": 3
   },
   "file_extension": ".py",
   "mimetype": "text/x-python",
   "name": "python",
   "nbconvert_exporter": "python",
   "pygments_lexer": "ipython3",
   "version": "3.8.10"
  }
 },
 "nbformat": 4,
 "nbformat_minor": 5
}