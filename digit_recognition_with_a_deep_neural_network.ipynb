{
 "cells": [
  {
   "cell_type": "code",
   "execution_count": 1,
   "source": [
    "import numpy as np # linear algebra\r\n",
    "import pandas as pd # data processing, CSV file I/O (e.g. pd.read_csv)\r\n",
    "import matplotlib.pyplot as plt\r\n",
    "#import seaborn as sn\r\n",
    "from sklearn.model_selection import train_test_split\r\n",
    "\r\n",
    "from random import seed\r\n",
    "seed(1)\r\n",
    "\r\n",
    "\r\n",
    "import tensorflow as tf\r\n",
    "from tensorflow import keras\r\n",
    "print(\"Tensorflow Version: \", tf.__version__)\r\n",
    "\r\n",
    "\r\n",
    "kaggle = 0 # Kaggle active 1\r\n",
    "\r\n",
    "if kaggle == 1 :\r\n",
    "    MNIST_PATH= '../input/digit-recognizer'\r\n",
    "else:\r\n",
    "    MNIST_PATH= '../Digit_Recognition_with_a_Deep_Neural_Network/data/input/digit-recognizer'\r\n",
    "\r\n",
    "\r\n",
    "\r\n",
    "import os\r\n",
    "for dirname, _, filenames in os.walk(MNIST_PATH): \r\n",
    "    for filename in filenames:\r\n",
    "        print(os.path.join(dirname, filename))\r\n",
    "        "
   ],
   "outputs": [
    {
     "output_type": "stream",
     "name": "stdout",
     "text": [
      "Tensorflow Version:  2.3.0\n",
      "../Digit_Recognition_with_a_Deep_Neural_Network/data/input/digit-recognizer\\sample_submission.csv\n",
      "../Digit_Recognition_with_a_Deep_Neural_Network/data/input/digit-recognizer\\test.csv\n",
      "../Digit_Recognition_with_a_Deep_Neural_Network/data/input/digit-recognizer\\train.csv\n"
     ]
    }
   ],
   "metadata": {}
  },
  {
   "cell_type": "markdown",
   "source": [
    "# Introduction - MNIST Training Competition\r\n",
    "Link to the topic: https://www.kaggle.com/c/digit-recognizer/data\r\n",
    "\r\n",
    "This is another Notebook to take a look into annother algorithm. Here I want to give the Deep Neural Network with the Framework Keras a try. As already mentioned in other notebooks, I will skip some explanations about the data set here. Moreover I will use the already discovered knowledge about the data and transform/prepare the data rightaway.\r\n",
    "\r\n",
    "If you are interested in some more clearly analysis of the dataset take a look into my other notebooks about the MNIS-dataset:\r\n",
    "- Another MNIST Try: https://www.kaggle.com/skiplik/another-mnist-try\r\n",
    "- First NN by Detecting Handwritten Characters: https://www.kaggle.com/skiplik/first-nn-by-detecting-handwritten-characters\r\n",
    "...\r\n",
    "\r\n",
    "\r\n"
   ],
   "metadata": {}
  },
  {
   "cell_type": "markdown",
   "source": [
    "# Get Data"
   ],
   "metadata": {}
  },
  {
   "cell_type": "code",
   "execution_count": 2,
   "source": [
    "# Data path and file\r\n",
    "#MNIST_PATH= '../input/digit-recognizer'\r\n",
    "#MNIST_PATH= '../Another_MNIST_try/data/input/digit-recognizer'\r\n",
    "CSV_FILE_TRAIN='train.csv'\r\n",
    "CSV_FILE_TEST='test.csv'\r\n",
    "\r\n",
    "def load_mnist_data(minist_path, csv_file):\r\n",
    "    csv_path = os.path.join(minist_path, csv_file)\r\n",
    "    return pd.read_csv(csv_path)\r\n",
    "\r\n",
    "def load_mnist_data_manuel(minist_path, csv_file):\r\n",
    "    csv_path = os.path.join(minist_path, csv_file)\r\n",
    "    csv_file = open(csv_path, 'r')\r\n",
    "    csv_data = csv_file.readlines()\r\n",
    "    csv_file.close()\r\n",
    "    return csv_data\r\n",
    "\r\n",
    "def split_train_val(data, val_ratio):\r\n",
    "    return \r\n",
    "    \r\n",
    "\r\n",
    "train = load_mnist_data(MNIST_PATH,CSV_FILE_TRAIN)\r\n",
    "test = load_mnist_data(MNIST_PATH,CSV_FILE_TEST)"
   ],
   "outputs": [],
   "metadata": {}
  },
  {
   "cell_type": "code",
   "execution_count": 10,
   "source": [
    "y = train['label'].copy()\r\n",
    "X = train.drop(['label'], axis=1)\r\n",
    "\r\n",
    "X_test = test.copy()"
   ],
   "outputs": [],
   "metadata": {}
  },
  {
   "cell_type": "markdown",
   "source": [
    "## Train / Val Split"
   ],
   "metadata": {}
  },
  {
   "cell_type": "code",
   "execution_count": 24,
   "source": [
    "X_train, X_val, y_train, y_val = train_test_split(X, y, random_state=43, test_size=0.25)"
   ],
   "outputs": [],
   "metadata": {}
  },
  {
   "cell_type": "code",
   "execution_count": 27,
   "source": [
    "print(\"X: \", X.shape)\r\n",
    "print(\"X_train: \", X_train.shape)\r\n",
    "print(\"X_val: \", X_val.shape)\r\n",
    "\r\n",
    "print(\"y_train: \", y_train.shape)\r\n",
    "print(\"y_val: \", y_val.shape)"
   ],
   "outputs": [
    {
     "output_type": "stream",
     "name": "stdout",
     "text": [
      "X:  (42000, 784)\n",
      "X_train:  (31500, 784)\n",
      "X_val:  (10500, 784)\n",
      "y_train:  (31500,)\n",
      "y_val:  (10500,)\n"
     ]
    }
   ],
   "metadata": {}
  },
  {
   "cell_type": "markdown",
   "source": [
    "## Building Transforming Piplines"
   ],
   "metadata": {}
  },
  {
   "cell_type": "code",
   "execution_count": 28,
   "source": [
    "from sklearn.pipeline import Pipeline\r\n",
    "from sklearn.preprocessing import Normalizer\r\n",
    "from sklearn.preprocessing import StandardScaler\r\n",
    "\r\n",
    "pipeline = Pipeline([\r\n",
    "    ('normalizer', Normalizer())\r\n",
    "    #('std_scalar',StandardScaler())\r\n",
    "])"
   ],
   "outputs": [],
   "metadata": {}
  },
  {
   "cell_type": "code",
   "execution_count": 49,
   "source": [
    "X_train_prep = pipeline.fit_transform(X_train)      # fitting the pipeline to the train and transform it\r\n",
    "X_val_prep = pipeline.transform(X_val)              # transform val data with this information"
   ],
   "outputs": [],
   "metadata": {}
  },
  {
   "cell_type": "markdown",
   "source": [
    "# Building a Deep Neural Network\r\n",
    "## Model Architecture"
   ],
   "metadata": {}
  },
  {
   "cell_type": "code",
   "execution_count": 55,
   "source": [
    "from tensorflow.keras.layers import Flatten\r\n",
    "from tensorflow.keras.layers import Dense\r\n",
    "\r\n",
    "model = keras.models.Sequential()\r\n",
    "\r\n",
    "model.add(Flatten(input_shape=[28,28]))\r\n",
    "model.add(Dense(300, activation=\"relu\"))\r\n",
    "model.add(Dense(300, activation=\"relu\"))\r\n",
    "model.add(Dense(300, activation=\"relu\"))\r\n",
    "model.add(Dense(300, activation=\"relu\"))\r\n",
    "model.add(Dense(10, activation=\"softmax\"))\r\n",
    "\r\n",
    "model.compile(\r\n",
    "    loss=\"sparse_categorical_crossentropy\",\r\n",
    "    optimizer=\"sgd\",\r\n",
    "    metrics=[\"accuracy\"] \r\n",
    ")\r\n"
   ],
   "outputs": [],
   "metadata": {}
  },
  {
   "cell_type": "code",
   "execution_count": 56,
   "source": [
    "model.summary()"
   ],
   "outputs": [
    {
     "output_type": "stream",
     "name": "stdout",
     "text": [
      "Model: \"sequential_7\"\n",
      "_________________________________________________________________\n",
      "Layer (type)                 Output Shape              Param #   \n",
      "=================================================================\n",
      "flatten_5 (Flatten)          (None, 784)               0         \n",
      "_________________________________________________________________\n",
      "dense_27 (Dense)             (None, 300)               235500    \n",
      "_________________________________________________________________\n",
      "dense_28 (Dense)             (None, 300)               90300     \n",
      "_________________________________________________________________\n",
      "dense_29 (Dense)             (None, 300)               90300     \n",
      "_________________________________________________________________\n",
      "dense_30 (Dense)             (None, 300)               90300     \n",
      "_________________________________________________________________\n",
      "dense_31 (Dense)             (None, 10)                3010      \n",
      "=================================================================\n",
      "Total params: 509,410\n",
      "Trainable params: 509,410\n",
      "Non-trainable params: 0\n",
      "_________________________________________________________________\n"
     ]
    }
   ],
   "metadata": {}
  },
  {
   "cell_type": "markdown",
   "source": [
    "## Model Training"
   ],
   "metadata": {}
  },
  {
   "cell_type": "code",
   "execution_count": 57,
   "source": [
    "history = model.fit(X_train_prep, y_train, epochs=10, validation_data=(X_val_prep, y_val))"
   ],
   "outputs": [
    {
     "output_type": "stream",
     "name": "stdout",
     "text": [
      "Epoch 1/30\n",
      "WARNING:tensorflow:Model was constructed with shape (None, 28, 28) for input Tensor(\"flatten_5_input:0\", shape=(None, 28, 28), dtype=float32), but it was called on an input with incompatible shape (None, 784).\n",
      "WARNING:tensorflow:Model was constructed with shape (None, 28, 28) for input Tensor(\"flatten_5_input:0\", shape=(None, 28, 28), dtype=float32), but it was called on an input with incompatible shape (None, 784).\n",
      "985/985 [==============================] - ETA: 0s - loss: 2.2560 - accuracy: 0.3155WARNING:tensorflow:Model was constructed with shape (None, 28, 28) for input Tensor(\"flatten_5_input:0\", shape=(None, 28, 28), dtype=float32), but it was called on an input with incompatible shape (None, 784).\n",
      "985/985 [==============================] - 2s 2ms/step - loss: 2.2560 - accuracy: 0.3155 - val_loss: 2.1693 - val_accuracy: 0.5673\n",
      "Epoch 2/30\n",
      "985/985 [==============================] - 2s 2ms/step - loss: 1.6603 - accuracy: 0.6020 - val_loss: 1.0046 - val_accuracy: 0.6987\n",
      "Epoch 3/30\n",
      "985/985 [==============================] - 2s 2ms/step - loss: 0.7611 - accuracy: 0.7650 - val_loss: 0.6444 - val_accuracy: 0.8016\n",
      "Epoch 4/30\n",
      "985/985 [==============================] - 2s 2ms/step - loss: 0.5363 - accuracy: 0.8419 - val_loss: 0.4793 - val_accuracy: 0.8552\n",
      "Epoch 5/30\n",
      "985/985 [==============================] - 2s 2ms/step - loss: 0.4312 - accuracy: 0.8746 - val_loss: 0.4213 - val_accuracy: 0.8728\n",
      "Epoch 6/30\n",
      "985/985 [==============================] - 2s 2ms/step - loss: 0.3775 - accuracy: 0.8900 - val_loss: 0.3799 - val_accuracy: 0.8870\n",
      "Epoch 7/30\n",
      "985/985 [==============================] - 2s 2ms/step - loss: 0.3439 - accuracy: 0.8988 - val_loss: 0.3500 - val_accuracy: 0.8962\n",
      "Epoch 8/30\n",
      "985/985 [==============================] - 2s 2ms/step - loss: 0.3194 - accuracy: 0.9060 - val_loss: 0.4446 - val_accuracy: 0.8575\n",
      "Epoch 9/30\n",
      "985/985 [==============================] - 2s 2ms/step - loss: 0.3002 - accuracy: 0.9111 - val_loss: 0.3177 - val_accuracy: 0.9059\n",
      "Epoch 10/30\n",
      "985/985 [==============================] - 2s 2ms/step - loss: 0.2834 - accuracy: 0.9162 - val_loss: 0.2979 - val_accuracy: 0.9116\n",
      "Epoch 11/30\n",
      "985/985 [==============================] - 2s 2ms/step - loss: 0.2675 - accuracy: 0.9217 - val_loss: 0.2816 - val_accuracy: 0.9156\n",
      "Epoch 12/30\n",
      "985/985 [==============================] - 2s 2ms/step - loss: 0.2533 - accuracy: 0.9233 - val_loss: 0.2669 - val_accuracy: 0.9192\n",
      "Epoch 13/30\n",
      "985/985 [==============================] - 2s 2ms/step - loss: 0.2422 - accuracy: 0.9283 - val_loss: 0.2592 - val_accuracy: 0.9219\n",
      "Epoch 14/30\n",
      "985/985 [==============================] - 2s 2ms/step - loss: 0.2297 - accuracy: 0.9321 - val_loss: 0.2799 - val_accuracy: 0.9138\n",
      "Epoch 15/30\n",
      "985/985 [==============================] - 2s 2ms/step - loss: 0.2183 - accuracy: 0.9352 - val_loss: 0.2362 - val_accuracy: 0.9298\n",
      "Epoch 16/30\n",
      "985/985 [==============================] - 2s 2ms/step - loss: 0.2071 - accuracy: 0.9380 - val_loss: 0.2315 - val_accuracy: 0.9292\n",
      "Epoch 17/30\n",
      "985/985 [==============================] - 2s 2ms/step - loss: 0.1970 - accuracy: 0.9424 - val_loss: 0.2268 - val_accuracy: 0.9302\n",
      "Epoch 18/30\n",
      "985/985 [==============================] - 2s 2ms/step - loss: 0.1874 - accuracy: 0.9438 - val_loss: 0.2213 - val_accuracy: 0.9322\n",
      "Epoch 19/30\n",
      "985/985 [==============================] - 2s 2ms/step - loss: 0.1782 - accuracy: 0.9481 - val_loss: 0.2042 - val_accuracy: 0.9359\n",
      "Epoch 20/30\n",
      "985/985 [==============================] - 2s 2ms/step - loss: 0.1695 - accuracy: 0.9498 - val_loss: 0.2179 - val_accuracy: 0.9311\n",
      "Epoch 21/30\n",
      "985/985 [==============================] - 2s 2ms/step - loss: 0.1616 - accuracy: 0.9527 - val_loss: 0.1866 - val_accuracy: 0.9447\n",
      "Epoch 22/30\n",
      "985/985 [==============================] - 2s 2ms/step - loss: 0.1537 - accuracy: 0.9542 - val_loss: 0.2048 - val_accuracy: 0.9362\n",
      "Epoch 23/30\n",
      "985/985 [==============================] - 2s 2ms/step - loss: 0.1467 - accuracy: 0.9563 - val_loss: 0.1791 - val_accuracy: 0.9451\n",
      "Epoch 24/30\n",
      "985/985 [==============================] - 2s 2ms/step - loss: 0.1396 - accuracy: 0.9586 - val_loss: 0.1700 - val_accuracy: 0.9472\n",
      "Epoch 25/30\n",
      "985/985 [==============================] - 2s 2ms/step - loss: 0.1339 - accuracy: 0.9602 - val_loss: 0.1638 - val_accuracy: 0.9488\n",
      "Epoch 26/30\n",
      "985/985 [==============================] - 2s 2ms/step - loss: 0.1282 - accuracy: 0.9619 - val_loss: 0.1716 - val_accuracy: 0.9461\n",
      "Epoch 27/30\n",
      "985/985 [==============================] - 2s 2ms/step - loss: 0.1221 - accuracy: 0.9640 - val_loss: 0.1716 - val_accuracy: 0.9440\n",
      "Epoch 28/30\n",
      "985/985 [==============================] - 2s 2ms/step - loss: 0.1170 - accuracy: 0.9649 - val_loss: 0.1538 - val_accuracy: 0.9510\n",
      "Epoch 29/30\n",
      "985/985 [==============================] - 2s 2ms/step - loss: 0.1119 - accuracy: 0.9662 - val_loss: 0.1490 - val_accuracy: 0.9530\n",
      "Epoch 30/30\n",
      "985/985 [==============================] - 2s 2ms/step - loss: 0.1071 - accuracy: 0.9687 - val_loss: 0.1640 - val_accuracy: 0.9490\n"
     ]
    }
   ],
   "metadata": {}
  },
  {
   "cell_type": "code",
   "execution_count": 59,
   "source": [
    "import pandas as pd\r\n",
    "import matplotlib.pyplot as plt\r\n",
    "\r\n",
    "pd.DataFrame(history.history).plot(figsize =(8,5))\r\n",
    "plt.grid(True)"
   ],
   "outputs": [
    {
     "output_type": "display_data",
     "data": {
      "text/plain": [
       "<Figure size 576x360 with 1 Axes>"
      ],
      "image/png": "[encoded data removed]"
     },
     "metadata": {
      "needs_background": "light"
     }
    }
   ],
   "metadata": {}
  },
  {
   "cell_type": "code",
   "execution_count": null,
   "source": [],
   "outputs": [],
   "metadata": {}
  }
 ],
 "metadata": {
  "interpreter": {
   "hash": "37bf934ecbd4db17eaae3989cadda52848e19b33c0774a7b040a0dfa45c2a049"
  },
  "kernelspec": {
   "name": "python3",
   "display_name": "Python 3.6.12 64-bit ('wingpuflake_2': conda)"
  },
  "language_info": {
   "codemirror_mode": {
    "name": "ipython",
    "version": 3
   },
   "file_extension": ".py",
   "mimetype": "text/x-python",
   "name": "python",
   "nbconvert_exporter": "python",
   "pygments_lexer": "ipython3",
   "version": "3.6.12"
  }
 },
 "nbformat": 4,
 "nbformat_minor": 5
}