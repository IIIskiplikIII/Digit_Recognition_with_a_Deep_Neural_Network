{
 "cells": [
  {
   "cell_type": "code",
   "execution_count": 1,
   "source": [
    "import numpy as np # linear algebra\r\n",
    "import pandas as pd # data processing, CSV file I/O (e.g. pd.read_csv)\r\n",
    "import matplotlib.pyplot as plt\r\n",
    "#import seaborn as sn\r\n",
    "from sklearn.model_selection import train_test_split\r\n",
    "\r\n",
    "from random import seed\r\n",
    "seed(1)\r\n",
    "seed = 43\r\n",
    "\r\n",
    "import tensorflow as tf\r\n",
    "from tensorflow import keras\r\n",
    "print(\"Tensorflow Version: \", tf.__version__)\r\n",
    "print(\"Keras Version: \",keras.__version__)\r\n",
    "\r\n",
    "\r\n",
    "kaggle = 0 # Kaggle path active = 1\r\n",
    "\r\n",
    "# change your local path here\r\n",
    "if kaggle == 1 :\r\n",
    "    MNIST_PATH= '../input/digit-recognizer'\r\n",
    "else:\r\n",
    "    MNIST_PATH= '../Digit_Recognition_with_a_Deep_Neural_Network/data/input/digit-recognizer'\r\n",
    "\r\n",
    "\r\n",
    "\r\n",
    "import os\r\n",
    "for dirname, _, filenames in os.walk(MNIST_PATH): \r\n",
    "    for filename in filenames:\r\n",
    "        print(os.path.join(dirname, filename))\r\n",
    "        "
   ],
   "outputs": [
    {
     "output_type": "stream",
     "name": "stdout",
     "text": [
      "Tensorflow Version:  2.3.0\n",
      "Keras Version:  2.4.0\n",
      "../Digit_Recognition_with_a_Deep_Neural_Network/data/input/digit-recognizer\\keras_reg_160_10_002.sav\n",
      "../Digit_Recognition_with_a_Deep_Neural_Network/data/input/digit-recognizer\\keras_reg_jl_160_10_002.sav\n",
      "../Digit_Recognition_with_a_Deep_Neural_Network/data/input/digit-recognizer\\sample_submission.csv\n",
      "../Digit_Recognition_with_a_Deep_Neural_Network/data/input/digit-recognizer\\test.csv\n",
      "../Digit_Recognition_with_a_Deep_Neural_Network/data/input/digit-recognizer\\train.csv\n"
     ]
    }
   ],
   "metadata": {}
  },
  {
   "cell_type": "markdown",
   "source": [
    "# Introduction - MNIST Training Competition\n",
    "Link to the topic: https://www.kaggle.com/c/digit-recognizer/data\n",
    "\n",
    "This is another Notebook to take a look into annother algorithm. Here I want to give the Deep Neural Network with the Framework Keras a try. As already mentioned in other notebooks, I will skip some explanations about the data set here. Moreover I will use the already discovered knowledge about the data and transform/prepare the data rightaway.\n",
    "\n",
    "If you are interested in some more clearly analysis of the dataset take a look into my other notebooks about the MNIS-dataset:\n",
    "- Another MNIST Try: https://www.kaggle.com/skiplik/another-mnist-try\n",
    "- First NN by Detecting Handwritten Characters: https://www.kaggle.com/skiplik/first-nn-by-detecting-handwritten-characters\n",
    "...\n",
    "\n",
    "\n"
   ],
   "metadata": {}
  },
  {
   "cell_type": "markdown",
   "source": [
    "# Get Data"
   ],
   "metadata": {}
  },
  {
   "cell_type": "code",
   "execution_count": 2,
   "source": [
    "# Data path and file\r\n",
    "#MNIST_PATH= '../input/digit-recognizer'\r\n",
    "#MNIST_PATH= '../Another_MNIST_try/data/input/digit-recognizer'\r\n",
    "CSV_FILE_TRAIN='train.csv'\r\n",
    "CSV_FILE_TEST='test.csv'\r\n",
    "\r\n",
    "def load_mnist_data(minist_path, csv_file):\r\n",
    "    csv_path = os.path.join(minist_path, csv_file)\r\n",
    "    return pd.read_csv(csv_path)\r\n",
    "\r\n",
    "def load_mnist_data_manuel(minist_path, csv_file):\r\n",
    "    csv_path = os.path.join(minist_path, csv_file)\r\n",
    "    csv_file = open(csv_path, 'r')\r\n",
    "    csv_data = csv_file.readlines()\r\n",
    "    csv_file.close()\r\n",
    "    return csv_data\r\n",
    "\r\n",
    "def split_train_val(data, val_ratio):\r\n",
    "    return \r\n",
    "    \r\n",
    "\r\n",
    "train = load_mnist_data(MNIST_PATH,CSV_FILE_TRAIN)\r\n",
    "test = load_mnist_data(MNIST_PATH,CSV_FILE_TEST)"
   ],
   "outputs": [],
   "metadata": {}
  },
  {
   "cell_type": "code",
   "execution_count": 3,
   "source": [
    "y = train['label'].copy()\r\n",
    "X = train.drop(['label'], axis=1)\r\n",
    "\r\n",
    "X_test = test.copy()"
   ],
   "outputs": [],
   "metadata": {}
  },
  {
   "cell_type": "markdown",
   "source": [
    "## Train / Val Split"
   ],
   "metadata": {}
  },
  {
   "cell_type": "code",
   "execution_count": 4,
   "source": [
    "print(\"Shape of the Features: \",X.shape)\r\n",
    "print(\"Shape of the Labels: \", y.shape)"
   ],
   "outputs": [
    {
     "output_type": "stream",
     "name": "stdout",
     "text": [
      "Shape of the Features:  (42000, 784)\n",
      "Shape of the Labels:  (42000,)\n"
     ]
    }
   ],
   "metadata": {}
  },
  {
   "cell_type": "markdown",
   "source": [
    "### TK - Label Value Count\n",
    "Visualizing the label distribution of the full train dataset."
   ],
   "metadata": {}
  },
  {
   "cell_type": "code",
   "execution_count": 5,
   "source": [
    "train.value_counts('label')"
   ],
   "outputs": [
    {
     "output_type": "execute_result",
     "data": {
      "text/plain": [
       "label\n",
       "1    4684\n",
       "7    4401\n",
       "3    4351\n",
       "9    4188\n",
       "2    4177\n",
       "6    4137\n",
       "0    4132\n",
       "4    4072\n",
       "8    4063\n",
       "5    3795\n",
       "dtype: int64"
      ]
     },
     "metadata": {},
     "execution_count": 5
    }
   ],
   "metadata": {}
  },
  {
   "cell_type": "code",
   "execution_count": 6,
   "source": [
    "X_train, X_val, y_train, y_val = train_test_split(X, y, random_state=seed, test_size=0.15\r\n",
    "                                                  , stratify=y\r\n",
    "                                                 )"
   ],
   "outputs": [],
   "metadata": {}
  },
  {
   "cell_type": "markdown",
   "source": [
    "Comparing the equally splitted train- and val-sets based on the given label y."
   ],
   "metadata": {}
  },
  {
   "cell_type": "code",
   "execution_count": 7,
   "source": [
    "print(\"Train - Set Distribution\")\r\n",
    "print(y_train.value_counts() / y_train.value_counts().sum() )\r\n",
    "print('--------------------------------------------------------------')\r\n",
    "print('--------------------------------------------------------------')\r\n",
    "print('--------------------------------------------------------------')\r\n",
    "print(\"Val - Set Distribution\")\r\n",
    "print(y_val.value_counts() / y_val.value_counts().sum() )\r\n"
   ],
   "outputs": [
    {
     "output_type": "stream",
     "name": "stdout",
     "text": [
      "Train - Set Distribution\n",
      "1    0.111513\n",
      "7    0.104790\n",
      "3    0.103585\n",
      "9    0.099720\n",
      "2    0.099440\n",
      "6    0.098515\n",
      "0    0.098375\n",
      "4    0.096947\n",
      "8    0.096751\n",
      "5    0.090364\n",
      "Name: label, dtype: float64\n",
      "--------------------------------------------------------------\n",
      "--------------------------------------------------------------\n",
      "--------------------------------------------------------------\n",
      "Val - Set Distribution\n",
      "1    0.111587\n",
      "7    0.104762\n",
      "3    0.103651\n",
      "9    0.099683\n",
      "2    0.099524\n",
      "6    0.098413\n",
      "0    0.098413\n",
      "4    0.096984\n",
      "8    0.096667\n",
      "5    0.090317\n",
      "Name: label, dtype: float64\n"
     ]
    }
   ],
   "metadata": {}
  },
  {
   "cell_type": "code",
   "execution_count": 8,
   "source": [
    "print(\"X: \", X.shape)\r\n",
    "print(\"X_train: \", X_train.shape)\r\n",
    "print(\"X_val: \", X_val.shape)\r\n",
    "\r\n",
    "print(\"y_train: \", y_train.shape)\r\n",
    "print(\"y_val: \", y_val.shape)"
   ],
   "outputs": [
    {
     "output_type": "stream",
     "name": "stdout",
     "text": [
      "X:  (42000, 784)\n",
      "X_train:  (35700, 784)\n",
      "X_val:  (6300, 784)\n",
      "y_train:  (35700,)\n",
      "y_val:  (6300,)\n"
     ]
    }
   ],
   "metadata": {}
  },
  {
   "cell_type": "markdown",
   "source": [
    "## TK - Free space for coding"
   ],
   "metadata": {}
  },
  {
   "cell_type": "code",
   "execution_count": 9,
   "source": [
    "#############################################################\r\n",
    "\r\n",
    "plt.imshow(np.asfarray(X_train[2:3]).reshape(28,28), cmap='Greys')"
   ],
   "outputs": [
    {
     "output_type": "execute_result",
     "data": {
      "text/plain": [
       "<matplotlib.image.AxesImage at 0x20bfb944070>"
      ]
     },
     "metadata": {},
     "execution_count": 9
    },
    {
     "output_type": "display_data",
     "data": {
      "text/plain": [
       "<Figure size 432x288 with 1 Axes>"
      ],
      "image/svg+xml": "<?xml version=\"1.0\" encoding=\"utf-8\" standalone=\"no\"?>\r\n<!DOCTYPE svg PUBLIC \"-//W3C//DTD SVG 1.1//EN\"\r\n  \"http://www.w3.org/Graphics/SVG/1.1/DTD/svg11.dtd\">\r\n<!-- Created with matplotlib (https://matplotlib.org/) -->\r\n<svg height=\"248.518125pt\" version=\"1.1\" viewBox=\"0 0 251.565 248.518125\" width=\"251.565pt\" xmlns=\"http://www.w3.org/2000/svg\" xmlns:xlink=\"http://www.w3.org/1999/xlink\">\r\n <metadata>\r\n  <rdf:RDF xmlns:cc=\"http://creativecommons.org/ns#\" xmlns:dc=\"http://purl.org/dc/elements/1.1/\" xmlns:rdf=\"http://www.w3.org/1999/02/22-rdf-syntax-ns#\">\r\n   <cc:Work>\r\n    <dc:type rdf:resource=\"http://purl.org/dc/dcmitype/StillImage\"/>\r\n    <dc:date>2021-08-30T08:36:17.865988</dc:date>\r\n    <dc:format>image/svg+xml</dc:format>\r\n    <dc:creator>\r\n     <cc:Agent>\r\n      <dc:title>Matplotlib v3.3.4, https://matplotlib.org/</dc:title>\r\n     </cc:Agent>\r\n    </dc:creator>\r\n   </cc:Work>\r\n  </rdf:RDF>\r\n </metadata>\r\n <defs>\r\n  <style type=\"text/css\">*{stroke-linecap:butt;stroke-linejoin:round;}</style>\r\n </defs>\r\n <g id=\"figure_1\">\r\n  <g id=\"patch_1\">\r\n   <path d=\"M 0 248.518125 \r\nL 251.565 248.518125 \r\nL 251.565 0 \r\nL 0 0 \r\nz\r\n\" style=\"fill:none;\"/>\r\n  </g>\r\n  <g id=\"axes_1\">\r\n   <g id=\"patch_2\">\r\n    <path d=\"M 26.925 224.64 \r\nL 244.365 224.64 \r\nL 244.365 7.2 \r\nL 26.925 7.2 \r\nz\r\n\" style=\"fill:#ffffff;\"/>\r\n   </g>\r\n   <g clip-path=\"url(#pdd22911cad)\">\r\n    <image height=\"218\" id=\"imaged07e3b84d9\" transform=\"scale(1 -1)translate(0 -218)\" width=\"218\" x=\"26.925\" xlink:href=\"data:image/png;base64,\r\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\" y=\"-6.64\"/>\r\n   </g>\r\n   <g id=\"matplotlib.axis_1\">\r\n    <g id=\"xtick_1\">\r\n     <g id=\"line2d_1\">\r\n      <defs>\r\n       <path d=\"M 0 0 \r\nL 0 3.5 \r\n\" id=\"medd04c3144\" style=\"stroke:#000000;stroke-width:0.8;\"/>\r\n      </defs>\r\n      <g>\r\n       <use style=\"stroke:#000000;stroke-width:0.8;\" x=\"30.807857\" xlink:href=\"#medd04c3144\" y=\"224.64\"/>\r\n      </g>\r\n     </g>\r\n     <g id=\"text_1\">\r\n      <!-- 0 -->\r\n      <g transform=\"translate(27.626607 239.238437)scale(0.1 -0.1)\">\r\n       <defs>\r\n        <path d=\"M 31.78125 66.40625 \r\nQ 24.171875 66.40625 20.328125 58.90625 \r\nQ 16.5 51.421875 16.5 36.375 \r\nQ 16.5 21.390625 20.328125 13.890625 \r\nQ 24.171875 6.390625 31.78125 6.390625 \r\nQ 39.453125 6.390625 43.28125 13.890625 \r\nQ 47.125 21.390625 47.125 36.375 \r\nQ 47.125 51.421875 43.28125 58.90625 \r\nQ 39.453125 66.40625 31.78125 66.40625 \r\nz\r\nM 31.78125 74.21875 \r\nQ 44.046875 74.21875 50.515625 64.515625 \r\nQ 56.984375 54.828125 56.984375 36.375 \r\nQ 56.984375 17.96875 50.515625 8.265625 \r\nQ 44.046875 -1.421875 31.78125 -1.421875 \r\nQ 19.53125 -1.421875 13.0625 8.265625 \r\nQ 6.59375 17.96875 6.59375 36.375 \r\nQ 6.59375 54.828125 13.0625 64.515625 \r\nQ 19.53125 74.21875 31.78125 74.21875 \r\nz\r\n\" id=\"DejaVuSans-48\"/>\r\n       </defs>\r\n       <use xlink:href=\"#DejaVuSans-48\"/>\r\n      </g>\r\n     </g>\r\n    </g>\r\n    <g id=\"xtick_2\">\r\n     <g id=\"line2d_2\">\r\n      <g>\r\n       <use style=\"stroke:#000000;stroke-width:0.8;\" x=\"69.636429\" xlink:href=\"#medd04c3144\" y=\"224.64\"/>\r\n      </g>\r\n     </g>\r\n     <g id=\"text_2\">\r\n      <!-- 5 -->\r\n      <g transform=\"translate(66.455179 239.238437)scale(0.1 -0.1)\">\r\n       <defs>\r\n        <path d=\"M 10.796875 72.90625 \r\nL 49.515625 72.90625 \r\nL 49.515625 64.59375 \r\nL 19.828125 64.59375 \r\nL 19.828125 46.734375 \r\nQ 21.96875 47.46875 24.109375 47.828125 \r\nQ 26.265625 48.1875 28.421875 48.1875 \r\nQ 40.625 48.1875 47.75 41.5 \r\nQ 54.890625 34.8125 54.890625 23.390625 \r\nQ 54.890625 11.625 47.5625 5.09375 \r\nQ 40.234375 -1.421875 26.90625 -1.421875 \r\nQ 22.3125 -1.421875 17.546875 -0.640625 \r\nQ 12.796875 0.140625 7.71875 1.703125 \r\nL 7.71875 11.625 \r\nQ 12.109375 9.234375 16.796875 8.0625 \r\nQ 21.484375 6.890625 26.703125 6.890625 \r\nQ 35.15625 6.890625 40.078125 11.328125 \r\nQ 45.015625 15.765625 45.015625 23.390625 \r\nQ 45.015625 31 40.078125 35.4375 \r\nQ 35.15625 39.890625 26.703125 39.890625 \r\nQ 22.75 39.890625 18.8125 39.015625 \r\nQ 14.890625 38.140625 10.796875 36.28125 \r\nz\r\n\" id=\"DejaVuSans-53\"/>\r\n       </defs>\r\n       <use xlink:href=\"#DejaVuSans-53\"/>\r\n      </g>\r\n     </g>\r\n    </g>\r\n    <g id=\"xtick_3\">\r\n     <g id=\"line2d_3\">\r\n      <g>\r\n       <use style=\"stroke:#000000;stroke-width:0.8;\" x=\"108.465\" xlink:href=\"#medd04c3144\" y=\"224.64\"/>\r\n      </g>\r\n     </g>\r\n     <g id=\"text_3\">\r\n      <!-- 10 -->\r\n      <g transform=\"translate(102.1025 239.238437)scale(0.1 -0.1)\">\r\n       <defs>\r\n        <path d=\"M 12.40625 8.296875 \r\nL 28.515625 8.296875 \r\nL 28.515625 63.921875 \r\nL 10.984375 60.40625 \r\nL 10.984375 69.390625 \r\nL 28.421875 72.90625 \r\nL 38.28125 72.90625 \r\nL 38.28125 8.296875 \r\nL 54.390625 8.296875 \r\nL 54.390625 0 \r\nL 12.40625 0 \r\nz\r\n\" id=\"DejaVuSans-49\"/>\r\n       </defs>\r\n       <use xlink:href=\"#DejaVuSans-49\"/>\r\n       <use x=\"63.623047\" xlink:href=\"#DejaVuSans-48\"/>\r\n      </g>\r\n     </g>\r\n    </g>\r\n    <g id=\"xtick_4\">\r\n     <g id=\"line2d_4\">\r\n      <g>\r\n       <use style=\"stroke:#000000;stroke-width:0.8;\" x=\"147.293571\" xlink:href=\"#medd04c3144\" y=\"224.64\"/>\r\n      </g>\r\n     </g>\r\n     <g id=\"text_4\">\r\n      <!-- 15 -->\r\n      <g transform=\"translate(140.931071 239.238437)scale(0.1 -0.1)\">\r\n       <use xlink:href=\"#DejaVuSans-49\"/>\r\n       <use x=\"63.623047\" xlink:href=\"#DejaVuSans-53\"/>\r\n      </g>\r\n     </g>\r\n    </g>\r\n    <g id=\"xtick_5\">\r\n     <g id=\"line2d_5\">\r\n      <g>\r\n       <use style=\"stroke:#000000;stroke-width:0.8;\" x=\"186.122143\" xlink:href=\"#medd04c3144\" y=\"224.64\"/>\r\n      </g>\r\n     </g>\r\n     <g id=\"text_5\">\r\n      <!-- 20 -->\r\n      <g transform=\"translate(179.759643 239.238437)scale(0.1 -0.1)\">\r\n       <defs>\r\n        <path d=\"M 19.1875 8.296875 \r\nL 53.609375 8.296875 \r\nL 53.609375 0 \r\nL 7.328125 0 \r\nL 7.328125 8.296875 \r\nQ 12.9375 14.109375 22.625 23.890625 \r\nQ 32.328125 33.6875 34.8125 36.53125 \r\nQ 39.546875 41.84375 41.421875 45.53125 \r\nQ 43.3125 49.21875 43.3125 52.78125 \r\nQ 43.3125 58.59375 39.234375 62.25 \r\nQ 35.15625 65.921875 28.609375 65.921875 \r\nQ 23.96875 65.921875 18.8125 64.3125 \r\nQ 13.671875 62.703125 7.8125 59.421875 \r\nL 7.8125 69.390625 \r\nQ 13.765625 71.78125 18.9375 73 \r\nQ 24.125 74.21875 28.421875 74.21875 \r\nQ 39.75 74.21875 46.484375 68.546875 \r\nQ 53.21875 62.890625 53.21875 53.421875 \r\nQ 53.21875 48.921875 51.53125 44.890625 \r\nQ 49.859375 40.875 45.40625 35.40625 \r\nQ 44.1875 33.984375 37.640625 27.21875 \r\nQ 31.109375 20.453125 19.1875 8.296875 \r\nz\r\n\" id=\"DejaVuSans-50\"/>\r\n       </defs>\r\n       <use xlink:href=\"#DejaVuSans-50\"/>\r\n       <use x=\"63.623047\" xlink:href=\"#DejaVuSans-48\"/>\r\n      </g>\r\n     </g>\r\n    </g>\r\n    <g id=\"xtick_6\">\r\n     <g id=\"line2d_6\">\r\n      <g>\r\n       <use style=\"stroke:#000000;stroke-width:0.8;\" x=\"224.950714\" xlink:href=\"#medd04c3144\" y=\"224.64\"/>\r\n      </g>\r\n     </g>\r\n     <g id=\"text_6\">\r\n      <!-- 25 -->\r\n      <g transform=\"translate(218.588214 239.238437)scale(0.1 -0.1)\">\r\n       <use xlink:href=\"#DejaVuSans-50\"/>\r\n       <use x=\"63.623047\" xlink:href=\"#DejaVuSans-53\"/>\r\n      </g>\r\n     </g>\r\n    </g>\r\n   </g>\r\n   <g id=\"matplotlib.axis_2\">\r\n    <g id=\"ytick_1\">\r\n     <g id=\"line2d_7\">\r\n      <defs>\r\n       <path d=\"M 0 0 \r\nL -3.5 0 \r\n\" id=\"m727a6b7dc3\" style=\"stroke:#000000;stroke-width:0.8;\"/>\r\n      </defs>\r\n      <g>\r\n       <use style=\"stroke:#000000;stroke-width:0.8;\" x=\"26.925\" xlink:href=\"#m727a6b7dc3\" y=\"11.082857\"/>\r\n      </g>\r\n     </g>\r\n     <g id=\"text_7\">\r\n      <!-- 0 -->\r\n      <g transform=\"translate(13.5625 14.882076)scale(0.1 -0.1)\">\r\n       <use xlink:href=\"#DejaVuSans-48\"/>\r\n      </g>\r\n     </g>\r\n    </g>\r\n    <g id=\"ytick_2\">\r\n     <g id=\"line2d_8\">\r\n      <g>\r\n       <use style=\"stroke:#000000;stroke-width:0.8;\" x=\"26.925\" xlink:href=\"#m727a6b7dc3\" y=\"49.911429\"/>\r\n      </g>\r\n     </g>\r\n     <g id=\"text_8\">\r\n      <!-- 5 -->\r\n      <g transform=\"translate(13.5625 53.710647)scale(0.1 -0.1)\">\r\n       <use xlink:href=\"#DejaVuSans-53\"/>\r\n      </g>\r\n     </g>\r\n    </g>\r\n    <g id=\"ytick_3\">\r\n     <g id=\"line2d_9\">\r\n      <g>\r\n       <use style=\"stroke:#000000;stroke-width:0.8;\" x=\"26.925\" xlink:href=\"#m727a6b7dc3\" y=\"88.74\"/>\r\n      </g>\r\n     </g>\r\n     <g id=\"text_9\">\r\n      <!-- 10 -->\r\n      <g transform=\"translate(7.2 92.539219)scale(0.1 -0.1)\">\r\n       <use xlink:href=\"#DejaVuSans-49\"/>\r\n       <use x=\"63.623047\" xlink:href=\"#DejaVuSans-48\"/>\r\n      </g>\r\n     </g>\r\n    </g>\r\n    <g id=\"ytick_4\">\r\n     <g id=\"line2d_10\">\r\n      <g>\r\n       <use style=\"stroke:#000000;stroke-width:0.8;\" x=\"26.925\" xlink:href=\"#m727a6b7dc3\" y=\"127.568571\"/>\r\n      </g>\r\n     </g>\r\n     <g id=\"text_10\">\r\n      <!-- 15 -->\r\n      <g transform=\"translate(7.2 131.36779)scale(0.1 -0.1)\">\r\n       <use xlink:href=\"#DejaVuSans-49\"/>\r\n       <use x=\"63.623047\" xlink:href=\"#DejaVuSans-53\"/>\r\n      </g>\r\n     </g>\r\n    </g>\r\n    <g id=\"ytick_5\">\r\n     <g id=\"line2d_11\">\r\n      <g>\r\n       <use style=\"stroke:#000000;stroke-width:0.8;\" x=\"26.925\" xlink:href=\"#m727a6b7dc3\" y=\"166.397143\"/>\r\n      </g>\r\n     </g>\r\n     <g id=\"text_11\">\r\n      <!-- 20 -->\r\n      <g transform=\"translate(7.2 170.196362)scale(0.1 -0.1)\">\r\n       <use xlink:href=\"#DejaVuSans-50\"/>\r\n       <use x=\"63.623047\" xlink:href=\"#DejaVuSans-48\"/>\r\n      </g>\r\n     </g>\r\n    </g>\r\n    <g id=\"ytick_6\">\r\n     <g id=\"line2d_12\">\r\n      <g>\r\n       <use style=\"stroke:#000000;stroke-width:0.8;\" x=\"26.925\" xlink:href=\"#m727a6b7dc3\" y=\"205.225714\"/>\r\n      </g>\r\n     </g>\r\n     <g id=\"text_12\">\r\n      <!-- 25 -->\r\n      <g transform=\"translate(7.2 209.024933)scale(0.1 -0.1)\">\r\n       <use xlink:href=\"#DejaVuSans-50\"/>\r\n       <use x=\"63.623047\" xlink:href=\"#DejaVuSans-53\"/>\r\n      </g>\r\n     </g>\r\n    </g>\r\n   </g>\r\n   <g id=\"patch_3\">\r\n    <path d=\"M 26.925 224.64 \r\nL 26.925 7.2 \r\n\" style=\"fill:none;stroke:#000000;stroke-linecap:square;stroke-linejoin:miter;stroke-width:0.8;\"/>\r\n   </g>\r\n   <g id=\"patch_4\">\r\n    <path d=\"M 244.365 224.64 \r\nL 244.365 7.2 \r\n\" style=\"fill:none;stroke:#000000;stroke-linecap:square;stroke-linejoin:miter;stroke-width:0.8;\"/>\r\n   </g>\r\n   <g id=\"patch_5\">\r\n    <path d=\"M 26.925 224.64 \r\nL 244.365 224.64 \r\n\" style=\"fill:none;stroke:#000000;stroke-linecap:square;stroke-linejoin:miter;stroke-width:0.8;\"/>\r\n   </g>\r\n   <g id=\"patch_6\">\r\n    <path d=\"M 26.925 7.2 \r\nL 244.365 7.2 \r\n\" style=\"fill:none;stroke:#000000;stroke-linecap:square;stroke-linejoin:miter;stroke-width:0.8;\"/>\r\n   </g>\r\n  </g>\r\n </g>\r\n <defs>\r\n  <clipPath id=\"pdd22911cad\">\r\n   <rect height=\"217.44\" width=\"217.44\" x=\"26.925\" y=\"7.2\"/>\r\n  </clipPath>\r\n </defs>\r\n</svg>\r\n",
      "image/png": "[encoded data removed]"
     },
     "metadata": {
      "needs_background": "light"
     }
    }
   ],
   "metadata": {}
  },
  {
   "cell_type": "markdown",
   "source": [
    "## Building Transforming Piplines"
   ],
   "metadata": {}
  },
  {
   "cell_type": "code",
   "execution_count": 10,
   "source": [
    "from sklearn.pipeline import Pipeline\r\n",
    "from sklearn.preprocessing import Normalizer\r\n",
    "from sklearn.preprocessing import StandardScaler\r\n",
    "\r\n",
    "pipeline = Pipeline([\r\n",
    "    ('normalizer', Normalizer())\r\n",
    "    #('std_scalar',StandardScaler())\r\n",
    "])"
   ],
   "outputs": [],
   "metadata": {}
  },
  {
   "cell_type": "code",
   "execution_count": 11,
   "source": [
    "X_train_prep = pipeline.fit_transform(X_train)      # fitting the pipeline to the train and transform it\r\n",
    "X_val_prep = pipeline.transform(X_val)              # transform val data with this information"
   ],
   "outputs": [],
   "metadata": {}
  },
  {
   "cell_type": "markdown",
   "source": [
    "# Building a Deep Neural Network based on RandomizedSearch"
   ],
   "metadata": {}
  },
  {
   "cell_type": "markdown",
   "source": [
    "## Preparing Model Visualization with Tensorboard (not for Kaggle)"
   ],
   "metadata": {}
  },
  {
   "cell_type": "code",
   "execution_count": 12,
   "source": [
    "root_logdir = \"../../tensorboard-logs\"\r\n",
    "\r\n",
    "print(\"Relative root_logdir: \",root_logdir)\r\n",
    "\r\n",
    "def get_run_logdir():\r\n",
    "    import time\r\n",
    "    run_id = time.strftime(\"run_%Y_%m_%d-%H_%M_%S\")\r\n",
    "    return os.path.join(root_logdir,run_id)"
   ],
   "outputs": [
    {
     "output_type": "stream",
     "name": "stdout",
     "text": [
      "Relative root_logdir:  ../../tensorboard-logs\n"
     ]
    }
   ],
   "metadata": {}
  },
  {
   "cell_type": "code",
   "execution_count": 13,
   "source": [
    "run_logdir = get_run_logdir()\r\n",
    "print(\"Current run logdir for Tensorboard: \", run_logdir)"
   ],
   "outputs": [
    {
     "output_type": "stream",
     "name": "stdout",
     "text": [
      "Current run logdir for Tensorboard:  ../../tensorboard-logs\\run_2021_08_30-08_36_18\n"
     ]
    }
   ],
   "metadata": {}
  },
  {
   "cell_type": "code",
   "execution_count": 14,
   "source": [
    "run_logdir"
   ],
   "outputs": [
    {
     "output_type": "execute_result",
     "data": {
      "text/plain": [
       "'../../tensorboard-logs\\\\run_2021_08_30-08_36_18'"
      ]
     },
     "metadata": {},
     "execution_count": 14
    }
   ],
   "metadata": {}
  },
  {
   "cell_type": "markdown",
   "source": [
    "### Keras Callbacks for Tensorboard\n",
    "With Keras there is a way of using Callbacks for the Tensorboard to write log files for the board and visualize the different graphs (loss and val curve)\n"
   ],
   "metadata": {}
  },
  {
   "cell_type": "code",
   "execution_count": 15,
   "source": [
    "tensorboard_cb = keras.callbacks.TensorBoard(run_logdir)"
   ],
   "outputs": [],
   "metadata": {}
  },
  {
   "cell_type": "markdown",
   "source": [
    "## Building Model Architecture"
   ],
   "metadata": {}
  },
  {
   "cell_type": "markdown",
   "source": [
    "### Architecture for Hyperparameter Optimization\n",
    "- Amount of Layers\n",
    "- Amount of Neurons\n",
    "- Learningrate\n",
    "- Checkpoints !!!!!!!!!!!!!!!!!!!!!\n",
    "- Early Stopping "
   ],
   "metadata": {}
  },
  {
   "cell_type": "code",
   "execution_count": 16,
   "source": [
    "def build_model(n_hidden=1, n_neurons=30, learning_rate=3e-3, input_shape=[784]):\r\n",
    "    model = keras.models.Sequential()                               # base model structure (Sequential API by Keras)\r\n",
    "\r\n",
    "    model.add(keras.layers.InputLayer(input_shape=input_shape))     # input layer\r\n",
    "\r\n",
    "    for layer in range(n_hidden):                                   # add layers as often as defined in constructor \r\n",
    "        model.add(keras.layers.Dense(n_neurons,activation=\"relu\"))  # add layer with given neurons and relu activation function\r\n",
    "\r\n",
    "    model.add(keras.layers.Dense(10, activation=\"softmax\"))                               # add output layer \r\n",
    "\r\n",
    "    optimizer = keras.optimizers.SGD(learning_rate=learning_rate)   # define optimizer (especially the larning rate for hyperparameter optimization)\r\n",
    "\r\n",
    "    model.compile(loss='sparse_categorical_crossentropy', optimizer=optimizer, metrics=['accuracy'])                  # make it ready\r\n",
    "\r\n",
    "    return model\r\n"
   ],
   "outputs": [],
   "metadata": {}
  },
  {
   "cell_type": "code",
   "execution_count": 17,
   "source": [
    "# Using keras wrapper as hull \r\n",
    "keras_reg = keras.wrappers.scikit_learn.KerasClassifier(build_model)"
   ],
   "outputs": [],
   "metadata": {}
  },
  {
   "cell_type": "markdown",
   "source": [
    "### Hyperparameter Space"
   ],
   "metadata": {}
  },
  {
   "cell_type": "code",
   "execution_count": 18,
   "source": [
    "from scipy.stats import reciprocal\r\n",
    "\r\n",
    "\r\n",
    "# Hyperparameter set\r\n",
    "param_dist= {\r\n",
    "            \"n_neurons\": range(20, 500, 20)\r\n",
    "            ,\"n_hidden\": range(10, 100, 10)\r\n",
    "            ,\"learning_rate\": [1e-3, 2e-3]\r\n",
    "    }\r\n",
    "\r\n",
    "\r\n",
    "param_dist_lr= {\r\n",
    "        \"n_neurons\": [10, 50, 100, 150, 300]                   #[10]     153 sekunden                                  #  [10]  #133 sekunden          ##[10,50,150,300]                     #range(10,300,10) \r\n",
    "        ,\"n_hidden\": [10, 50, 100, 150]                  #[10]     verlust höher und genauigkeit geringer        #  [10]  #                           ##[10,40,80]                          #range(10, 100, 10)\r\n",
    "        ,\"learning_rate\": [1e-3, 3e-4, 3e-2]               #[1e-3]                                                 #  [1e-2] #                 ##[1e-3, 1e-2]    # [np.exp(np.log(10**6)/1000)]   #### exp(log(10**6)/500)\r\n",
    "                                                                        # np.reciprocal(3e-4, 3e-2)\r\n",
    "}\r\n",
    "\r\n",
    "\r\n",
    "\r\n",
    "param_dist_bestrun_1 = {\r\n",
    "        \"n_neurons\": [150]\r\n",
    "        ,\"n_hidden\": [30]\r\n",
    "        ,\"learning_rate\": [2e-3]  \r\n",
    "}\r\n",
    "\r\n",
    "\r\n",
    "param_dist_bestrun_2 = {\r\n",
    "        \"n_neurons\": [100]\r\n",
    "        ,\"n_hidden\": [10]\r\n",
    "        ,\"learning_rate\": [2e-3]  \r\n",
    "}"
   ],
   "outputs": [],
   "metadata": {}
  },
  {
   "cell_type": "markdown",
   "source": [
    "## TK - Model Checkpoints"
   ],
   "metadata": {}
  },
  {
   "cell_type": "code",
   "execution_count": 19,
   "source": [
    "checkpoint_cb = keras.callbacks.ModelCheckpoint(\"my_rans_model.h5\", save_best_only=True, save_weights_only=False)"
   ],
   "outputs": [],
   "metadata": {}
  },
  {
   "cell_type": "markdown",
   "source": [
    "## Model Training"
   ],
   "metadata": {}
  },
  {
   "cell_type": "markdown",
   "source": [
    "### Randomized Search\r\n",
    "Finding best hyperparameters with Randomized search"
   ],
   "metadata": {}
  },
  {
   "cell_type": "code",
   "execution_count": 20,
   "source": [
    "from sklearn.model_selection import RandomizedSearchCV\r\n",
    "\r\n",
    "ran_ker_reg = RandomizedSearchCV(keras_reg, param_dist_lr, n_iter=10, cv=3, random_state=seed, return_train_score=True)\r\n",
    "history_ker_reg = ran_ker_reg.fit(X_train_prep, y_train, epochs=100, validation_data=(X_val_prep, y_val), callbacks=[checkpoint_cb, keras.callbacks.EarlyStopping(patience=5), tensorboard_cb])"
   ],
   "outputs": [
    {
     "output_type": "stream",
     "name": "stdout",
     "text": [
      "Epoch 1/100\n",
      "   1/1116 [..............................] - ETA: 0s - loss: 2.3025 - accuracy: 0.1250WARNING:tensorflow:From D:\\anaconda3\\envs\\wingpuflake_keras\\lib\\site-packages\\tensorflow\\python\\ops\\summary_ops_v2.py:1277: stop (from tensorflow.python.eager.profiler) is deprecated and will be removed after 2020-07-01.\n",
      "Instructions for updating:\n",
      "use `tf.profiler.experimental.stop` instead.\n",
      "WARNING:tensorflow:Callbacks method `on_train_batch_end` is slow compared to the batch time (batch time: 0.0020s vs `on_train_batch_end` time: 0.0195s). Check your callbacks.\n",
      "1116/1116 [==============================] - 2s 2ms/step - loss: 2.0297 - accuracy: 0.2289 - val_loss: 1.4077 - val_accuracy: 0.4275\n",
      "Epoch 2/100\n",
      "1116/1116 [==============================] - 2s 2ms/step - loss: 0.9787 - accuracy: 0.6309 - val_loss: 0.6706 - val_accuracy: 0.7675\n",
      "Epoch 3/100\n",
      "1116/1116 [==============================] - 2s 2ms/step - loss: 0.4297 - accuracy: 0.8693 - val_loss: 0.3235 - val_accuracy: 0.9044\n",
      "Epoch 4/100\n",
      "1116/1116 [==============================] - 2s 2ms/step - loss: 0.2860 - accuracy: 0.9142 - val_loss: 0.3418 - val_accuracy: 0.8933\n",
      "Epoch 5/100\n",
      "1116/1116 [==============================] - 2s 2ms/step - loss: 0.2206 - accuracy: 0.9344 - val_loss: 0.1977 - val_accuracy: 0.9432\n",
      "Epoch 6/100\n",
      "1116/1116 [==============================] - 2s 2ms/step - loss: 0.1827 - accuracy: 0.9449 - val_loss: 0.3264 - val_accuracy: 0.9024\n",
      "Epoch 7/100\n",
      "1116/1116 [==============================] - 2s 2ms/step - loss: 0.1545 - accuracy: 0.9529 - val_loss: 0.1441 - val_accuracy: 0.9579\n",
      "Epoch 8/100\n",
      "1116/1116 [==============================] - 2s 2ms/step - loss: 0.1330 - accuracy: 0.9594 - val_loss: 0.1372 - val_accuracy: 0.9608\n",
      "Epoch 9/100\n",
      "1116/1116 [==============================] - 2s 2ms/step - loss: 0.1177 - accuracy: 0.9650 - val_loss: 0.1666 - val_accuracy: 0.9498\n",
      "Epoch 10/100\n",
      "1116/1116 [==============================] - 2s 2ms/step - loss: 0.1094 - accuracy: 0.9666 - val_loss: 0.1225 - val_accuracy: 0.9643\n",
      "Epoch 11/100\n",
      "1116/1116 [==============================] - 2s 1ms/step - loss: 0.0956 - accuracy: 0.9708 - val_loss: 0.1470 - val_accuracy: 0.9600\n",
      "Epoch 12/100\n",
      "1116/1116 [==============================] - 2s 2ms/step - loss: 0.0899 - accuracy: 0.9719 - val_loss: 0.1171 - val_accuracy: 0.9663\n",
      "Epoch 13/100\n",
      "1116/1116 [==============================] - 2s 2ms/step - loss: 0.0810 - accuracy: 0.9749 - val_loss: 0.1298 - val_accuracy: 0.9654\n",
      "Epoch 14/100\n",
      "1116/1116 [==============================] - 2s 2ms/step - loss: 0.0763 - accuracy: 0.9754 - val_loss: 0.1096 - val_accuracy: 0.9690\n",
      "Epoch 15/100\n",
      "1116/1116 [==============================] - 2s 2ms/step - loss: 0.0671 - accuracy: 0.9792 - val_loss: 0.1113 - val_accuracy: 0.9690\n",
      "Epoch 16/100\n",
      "1116/1116 [==============================] - 2s 2ms/step - loss: 0.0635 - accuracy: 0.9809 - val_loss: 0.1117 - val_accuracy: 0.9703\n",
      "Epoch 17/100\n",
      "1116/1116 [==============================] - 2s 2ms/step - loss: 0.0590 - accuracy: 0.9821 - val_loss: 0.1126 - val_accuracy: 0.9703\n",
      "Epoch 18/100\n",
      "1116/1116 [==============================] - 2s 2ms/step - loss: 0.0542 - accuracy: 0.9829 - val_loss: 0.1227 - val_accuracy: 0.9670\n",
      "Epoch 19/100\n",
      "1116/1116 [==============================] - 2s 2ms/step - loss: 0.0535 - accuracy: 0.9832 - val_loss: 0.1476 - val_accuracy: 0.9614\n"
     ]
    }
   ],
   "metadata": {
    "collapsed": true,
    "jupyter": {
     "outputs_hidden": true
    },
    "tags": []
   }
  },
  {
   "cell_type": "code",
   "execution_count": 21,
   "source": [
    "history_ker_reg.best_params_"
   ],
   "outputs": [
    {
     "output_type": "execute_result",
     "data": {
      "text/plain": [
       "{'n_neurons': 150, 'n_hidden': 10, 'learning_rate': 0.03}"
      ]
     },
     "metadata": {},
     "execution_count": 21
    }
   ],
   "metadata": {}
  },
  {
   "cell_type": "code",
   "execution_count": 22,
   "source": [
    "history_ker_reg"
   ],
   "outputs": [
    {
     "output_type": "execute_result",
     "data": {
      "text/plain": [
       "RandomizedSearchCV(cv=3,\n",
       "                   estimator=<tensorflow.python.keras.wrappers.scikit_learn.KerasClassifier object at 0x000001E125CAB4C0>,\n",
       "                   n_jobs=5,\n",
       "                   param_distributions={'learning_rate': [0.001, 0.0003, 0.03],\n",
       "                                        'n_hidden': [10, 50, 100, 150],\n",
       "                                        'n_neurons': [10, 50, 100, 150, 300]},\n",
       "                   random_state=43, return_train_score=True)"
      ]
     },
     "metadata": {},
     "execution_count": 22
    }
   ],
   "metadata": {}
  },
  {
   "cell_type": "markdown",
   "source": [
    "### Model Training with Full Dataset \r\n",
    "In this part I will train the model with the full dataset. This time I will use the discovered hyperparameters from the randomized search from the previous part.\r\n",
    "\r\n",
    "Based on the hyperparameter search the following parameters were found:\r\n",
    "- n_neurons = 150\r\n",
    "- n_hidden = 10\r\n",
    "- learning_rate = 0.03"
   ],
   "metadata": {}
  },
  {
   "cell_type": "code",
   "execution_count": 20,
   "source": [
    "# Creating wrapped regression model with our function. \r\n",
    "keras_reg_model = keras_reg.build_fn(n_neurons= 150, n_hidden= 10, learning_rate=0.03)"
   ],
   "outputs": [],
   "metadata": {}
  },
  {
   "cell_type": "code",
   "execution_count": 21,
   "source": [
    "keras_reg_model.summary()"
   ],
   "outputs": [
    {
     "output_type": "stream",
     "name": "stdout",
     "text": [
      "Model: \"sequential\"\n",
      "_________________________________________________________________\n",
      "Layer (type)                 Output Shape              Param #   \n",
      "=================================================================\n",
      "dense (Dense)                (None, 150)               117750    \n",
      "_________________________________________________________________\n",
      "dense_1 (Dense)              (None, 150)               22650     \n",
      "_________________________________________________________________\n",
      "dense_2 (Dense)              (None, 150)               22650     \n",
      "_________________________________________________________________\n",
      "dense_3 (Dense)              (None, 150)               22650     \n",
      "_________________________________________________________________\n",
      "dense_4 (Dense)              (None, 150)               22650     \n",
      "_________________________________________________________________\n",
      "dense_5 (Dense)              (None, 150)               22650     \n",
      "_________________________________________________________________\n",
      "dense_6 (Dense)              (None, 150)               22650     \n",
      "_________________________________________________________________\n",
      "dense_7 (Dense)              (None, 150)               22650     \n",
      "_________________________________________________________________\n",
      "dense_8 (Dense)              (None, 150)               22650     \n",
      "_________________________________________________________________\n",
      "dense_9 (Dense)              (None, 150)               22650     \n",
      "_________________________________________________________________\n",
      "dense_10 (Dense)             (None, 10)                1510      \n",
      "=================================================================\n",
      "Total params: 323,110\n",
      "Trainable params: 323,110\n",
      "Non-trainable params: 0\n",
      "_________________________________________________________________\n"
     ]
    }
   ],
   "metadata": {}
  },
  {
   "cell_type": "code",
   "execution_count": 22,
   "source": [
    "# creating a new log dir for tensorboard\r\n",
    "tensorboard_cb_f = keras.callbacks.TensorBoard(get_run_logdir())\r\n",
    "checkpoint_cb_f = keras.callbacks.ModelCheckpoint(\"my_keras_reg_model.h5\", save_best_only=False, save_weights_only=False)"
   ],
   "outputs": [],
   "metadata": {}
  },
  {
   "cell_type": "code",
   "execution_count": 23,
   "source": [
    "# preparing data based on our beautifull trained data pipeline\r\n",
    "X_prep_all = pipeline.transform(X)"
   ],
   "outputs": [],
   "metadata": {}
  },
  {
   "cell_type": "code",
   "execution_count": 25,
   "source": [
    "# Train the model again pleeeeease with all you got .... especially the new transformed data matrix X \r\n",
    "keras_reg_model.fit(X_prep_all, y, epochs=100, callbacks=[tensorboard_cb_f, checkpoint_cb_f])"
   ],
   "outputs": [
    {
     "output_type": "stream",
     "name": "stdout",
     "text": [
      "Epoch 1/100\n",
      "   1/1313 [..............................] - ETA: 0s - loss: 2.3027 - accuracy: 0.0000e+00WARNING:tensorflow:From D:\\anaconda3\\envs\\wingpuflake_keras\\lib\\site-packages\\tensorflow\\python\\ops\\summary_ops_v2.py:1277: stop (from tensorflow.python.eager.profiler) is deprecated and will be removed after 2020-07-01.\n",
      "Instructions for updating:\n",
      "use `tf.profiler.experimental.stop` instead.\n",
      "WARNING:tensorflow:Callbacks method `on_train_batch_end` is slow compared to the batch time (batch time: 0.0025s vs `on_train_batch_end` time: 0.0260s). Check your callbacks.\n",
      "1313/1313 [==============================] - 2s 1ms/step - loss: 1.8323 - accuracy: 0.3037\n",
      "Epoch 2/100\n",
      "1313/1313 [==============================] - 2s 1ms/step - loss: 0.7658 - accuracy: 0.7371\n",
      "Epoch 3/100\n",
      "1313/1313 [==============================] - 2s 1ms/step - loss: 0.3831 - accuracy: 0.8879\n",
      "Epoch 4/100\n",
      "1313/1313 [==============================] - 2s 1ms/step - loss: 0.2645 - accuracy: 0.9239\n",
      "Epoch 5/100\n",
      "1313/1313 [==============================] - 2s 1ms/step - loss: 0.2045 - accuracy: 0.9408\n",
      "Epoch 6/100\n",
      "1313/1313 [==============================] - 2s 1ms/step - loss: 0.1715 - accuracy: 0.9493\n",
      "Epoch 7/100\n",
      "1313/1313 [==============================] - 2s 1ms/step - loss: 0.1460 - accuracy: 0.9572\n",
      "Epoch 8/100\n",
      "1313/1313 [==============================] - 2s 1ms/step - loss: 0.1284 - accuracy: 0.9621\n",
      "Epoch 9/100\n",
      "1313/1313 [==============================] - 2s 1ms/step - loss: 0.1144 - accuracy: 0.9661\n",
      "Epoch 10/100\n",
      "1313/1313 [==============================] - 2s 1ms/step - loss: 0.1035 - accuracy: 0.9699\n",
      "Epoch 11/100\n",
      "1313/1313 [==============================] - 2s 1ms/step - loss: 0.0921 - accuracy: 0.9723\n",
      "Epoch 12/100\n",
      "1313/1313 [==============================] - 2s 1ms/step - loss: 0.0825 - accuracy: 0.9760\n",
      "Epoch 13/100\n",
      "1313/1313 [==============================] - 2s 1ms/step - loss: 0.0760 - accuracy: 0.9773\n",
      "Epoch 14/100\n",
      "1313/1313 [==============================] - 2s 1ms/step - loss: 0.0706 - accuracy: 0.9790\n",
      "Epoch 15/100\n",
      "1313/1313 [==============================] - 2s 1ms/step - loss: 0.0645 - accuracy: 0.9805\n",
      "Epoch 16/100\n",
      "1313/1313 [==============================] - 2s 1ms/step - loss: 0.0602 - accuracy: 0.9815\n",
      "Epoch 17/100\n",
      "1313/1313 [==============================] - 2s 1ms/step - loss: 0.0551 - accuracy: 0.9831\n",
      "Epoch 18/100\n",
      "1313/1313 [==============================] - 2s 1ms/step - loss: 0.0530 - accuracy: 0.9845\n",
      "Epoch 19/100\n",
      "1313/1313 [==============================] - 2s 1ms/step - loss: 0.0475 - accuracy: 0.9857\n",
      "Epoch 20/100\n",
      "1313/1313 [==============================] - 2s 1ms/step - loss: 0.0452 - accuracy: 0.9870\n",
      "Epoch 21/100\n",
      "1313/1313 [==============================] - 2s 1ms/step - loss: 0.0405 - accuracy: 0.9872\n",
      "Epoch 22/100\n",
      "1313/1313 [==============================] - 2s 1ms/step - loss: 0.0381 - accuracy: 0.9882\n",
      "Epoch 23/100\n",
      "1313/1313 [==============================] - 2s 1ms/step - loss: 0.0357 - accuracy: 0.9889\n",
      "Epoch 24/100\n",
      "1313/1313 [==============================] - 2s 1ms/step - loss: 0.0315 - accuracy: 0.9909\n",
      "Epoch 25/100\n",
      "1313/1313 [==============================] - 2s 1ms/step - loss: 0.0329 - accuracy: 0.9900\n",
      "Epoch 26/100\n",
      "1313/1313 [==============================] - 2s 1ms/step - loss: 0.0279 - accuracy: 0.9918\n",
      "Epoch 27/100\n",
      "1313/1313 [==============================] - 2s 1ms/step - loss: 0.0276 - accuracy: 0.9915\n",
      "Epoch 28/100\n",
      "1313/1313 [==============================] - 2s 1ms/step - loss: 0.0256 - accuracy: 0.9921\n",
      "Epoch 29/100\n",
      "1313/1313 [==============================] - 2s 1ms/step - loss: 0.0258 - accuracy: 0.9924\n",
      "Epoch 30/100\n",
      "1313/1313 [==============================] - 2s 1ms/step - loss: 0.0212 - accuracy: 0.9938\n",
      "Epoch 31/100\n",
      "1313/1313 [==============================] - 2s 1ms/step - loss: 0.0228 - accuracy: 0.9930\n",
      "Epoch 32/100\n",
      "1313/1313 [==============================] - 2s 1ms/step - loss: 0.0168 - accuracy: 0.9950\n",
      "Epoch 33/100\n",
      "1313/1313 [==============================] - 2s 1ms/step - loss: 0.0190 - accuracy: 0.9944\n",
      "Epoch 34/100\n",
      "1313/1313 [==============================] - 2s 1ms/step - loss: 0.0213 - accuracy: 0.9933\n",
      "Epoch 35/100\n",
      "1313/1313 [==============================] - 2s 1ms/step - loss: 0.0171 - accuracy: 0.9949\n",
      "Epoch 36/100\n",
      "1313/1313 [==============================] - 2s 1ms/step - loss: 0.0120 - accuracy: 0.9965\n",
      "Epoch 37/100\n",
      "1313/1313 [==============================] - 2s 1ms/step - loss: 0.0171 - accuracy: 0.9946\n",
      "Epoch 38/100\n",
      "1313/1313 [==============================] - 2s 1ms/step - loss: 0.0153 - accuracy: 0.9953\n",
      "Epoch 39/100\n",
      "1313/1313 [==============================] - 2s 1ms/step - loss: 0.0123 - accuracy: 0.9962\n",
      "Epoch 40/100\n",
      "1313/1313 [==============================] - 2s 1ms/step - loss: 0.0115 - accuracy: 0.9966\n",
      "Epoch 41/100\n",
      "1313/1313 [==============================] - 2s 1ms/step - loss: 0.0117 - accuracy: 0.9966\n",
      "Epoch 42/100\n",
      "1313/1313 [==============================] - 2s 1ms/step - loss: 0.0113 - accuracy: 0.9966\n",
      "Epoch 43/100\n",
      "1313/1313 [==============================] - 2s 1ms/step - loss: 0.0123 - accuracy: 0.9963\n",
      "Epoch 44/100\n",
      "1313/1313 [==============================] - 2s 1ms/step - loss: 0.0161 - accuracy: 0.9948\n",
      "Epoch 45/100\n",
      "1313/1313 [==============================] - 2s 1ms/step - loss: 0.0121 - accuracy: 0.9965\n",
      "Epoch 46/100\n",
      "1313/1313 [==============================] - 2s 1ms/step - loss: 0.0068 - accuracy: 0.9980\n",
      "Epoch 47/100\n",
      "1313/1313 [==============================] - 2s 1ms/step - loss: 0.0056 - accuracy: 0.9984\n",
      "Epoch 48/100\n",
      "1313/1313 [==============================] - 2s 1ms/step - loss: 0.0102 - accuracy: 0.9971\n",
      "Epoch 49/100\n",
      "1313/1313 [==============================] - 2s 1ms/step - loss: 0.0074 - accuracy: 0.9979\n",
      "Epoch 50/100\n",
      "1313/1313 [==============================] - 2s 1ms/step - loss: 0.0119 - accuracy: 0.9963\n",
      "Epoch 51/100\n",
      "1313/1313 [==============================] - 2s 1ms/step - loss: 0.0040 - accuracy: 0.9990\n",
      "Epoch 52/100\n",
      "1313/1313 [==============================] - 2s 1ms/step - loss: 0.0027 - accuracy: 0.9993\n",
      "Epoch 53/100\n",
      "1313/1313 [==============================] - 2s 1ms/step - loss: 0.0089 - accuracy: 0.9977\n",
      "Epoch 54/100\n",
      "1313/1313 [==============================] - 2s 1ms/step - loss: 0.0036 - accuracy: 0.9991\n",
      "Epoch 55/100\n",
      "1313/1313 [==============================] - 2s 1ms/step - loss: 0.0018 - accuracy: 0.9996\n",
      "Epoch 56/100\n",
      "1313/1313 [==============================] - 2s 1ms/step - loss: 0.0021 - accuracy: 0.9995\n",
      "Epoch 57/100\n",
      "1313/1313 [==============================] - 2s 1ms/step - loss: 0.0019 - accuracy: 0.9996\n",
      "Epoch 58/100\n",
      "1313/1313 [==============================] - 2s 1ms/step - loss: 0.0428 - accuracy: 0.9898\n",
      "Epoch 59/100\n",
      "1313/1313 [==============================] - 2s 1ms/step - loss: 0.0162 - accuracy: 0.9948\n",
      "Epoch 60/100\n",
      "1313/1313 [==============================] - 2s 1ms/step - loss: 0.0103 - accuracy: 0.9969\n",
      "Epoch 61/100\n",
      "1313/1313 [==============================] - 2s 1ms/step - loss: 0.0038 - accuracy: 0.9991\n",
      "Epoch 62/100\n",
      "1313/1313 [==============================] - 2s 1ms/step - loss: 0.0015 - accuracy: 0.9997\n",
      "Epoch 63/100\n",
      "1313/1313 [==============================] - 2s 1ms/step - loss: 0.0143 - accuracy: 0.9959\n",
      "Epoch 64/100\n",
      "1313/1313 [==============================] - 2s 1ms/step - loss: 0.0028 - accuracy: 0.9993\n",
      "Epoch 65/100\n",
      "1313/1313 [==============================] - 2s 1ms/step - loss: 0.0044 - accuracy: 0.9989\n",
      "Epoch 66/100\n",
      "1313/1313 [==============================] - 2s 1ms/step - loss: 0.0032 - accuracy: 0.9991\n",
      "Epoch 67/100\n",
      "1313/1313 [==============================] - 2s 1ms/step - loss: 0.0061 - accuracy: 0.9982\n",
      "Epoch 68/100\n",
      "1313/1313 [==============================] - 2s 1ms/step - loss: 0.0036 - accuracy: 0.9992\n",
      "Epoch 69/100\n",
      "1313/1313 [==============================] - 2s 1ms/step - loss: 0.0020 - accuracy: 0.9994\n",
      "Epoch 70/100\n",
      "1313/1313 [==============================] - 2s 1ms/step - loss: 8.3238e-04 - accuracy: 0.9998\n",
      "Epoch 71/100\n",
      "1313/1313 [==============================] - 2s 1ms/step - loss: 0.0125 - accuracy: 0.9963\n",
      "Epoch 72/100\n",
      "1313/1313 [==============================] - 2s 1ms/step - loss: 0.0072 - accuracy: 0.9980\n",
      "Epoch 73/100\n",
      "1313/1313 [==============================] - 2s 1ms/step - loss: 0.0032 - accuracy: 0.9992\n",
      "Epoch 74/100\n",
      "1313/1313 [==============================] - 2s 1ms/step - loss: 9.4125e-04 - accuracy: 0.9998\n",
      "Epoch 75/100\n",
      "1313/1313 [==============================] - 2s 1ms/step - loss: 0.0018 - accuracy: 0.9996\n",
      "Epoch 76/100\n",
      "1313/1313 [==============================] - 2s 1ms/step - loss: 6.3790e-04 - accuracy: 0.9999\n",
      "Epoch 77/100\n",
      "1313/1313 [==============================] - 2s 1ms/step - loss: 0.0112 - accuracy: 0.9967\n",
      "Epoch 78/100\n",
      "1313/1313 [==============================] - 2s 1ms/step - loss: 0.0053 - accuracy: 0.9981\n",
      "Epoch 79/100\n",
      "1313/1313 [==============================] - 2s 1ms/step - loss: 0.0026 - accuracy: 0.9994\n",
      "Epoch 80/100\n",
      "1313/1313 [==============================] - 2s 1ms/step - loss: 0.0049 - accuracy: 0.9986\n",
      "Epoch 81/100\n",
      "1313/1313 [==============================] - 2s 1ms/step - loss: 6.8607e-04 - accuracy: 0.9999\n",
      "Epoch 82/100\n",
      "1313/1313 [==============================] - 2s 1ms/step - loss: 5.1910e-04 - accuracy: 0.9999\n",
      "Epoch 83/100\n",
      "1313/1313 [==============================] - 2s 1ms/step - loss: 5.1780e-04 - accuracy: 0.9999\n",
      "Epoch 84/100\n",
      "1313/1313 [==============================] - 2s 1ms/step - loss: 5.4253e-04 - accuracy: 0.9999\n",
      "Epoch 85/100\n",
      "1313/1313 [==============================] - 2s 1ms/step - loss: 3.9890e-04 - accuracy: 0.9999\n",
      "Epoch 86/100\n",
      "1313/1313 [==============================] - 2s 1ms/step - loss: 3.1632e-04 - accuracy: 0.9999\n",
      "Epoch 87/100\n",
      "1313/1313 [==============================] - 2s 1ms/step - loss: 3.1529e-04 - accuracy: 0.9999\n",
      "Epoch 88/100\n",
      "1313/1313 [==============================] - 2s 1ms/step - loss: 2.7923e-04 - accuracy: 0.9999\n",
      "Epoch 89/100\n",
      "1313/1313 [==============================] - 2s 1ms/step - loss: 2.8607e-04 - accuracy: 0.9999\n",
      "Epoch 90/100\n",
      "1313/1313 [==============================] - 2s 1ms/step - loss: 2.7464e-04 - accuracy: 0.9999\n",
      "Epoch 91/100\n",
      "1313/1313 [==============================] - 2s 1ms/step - loss: 3.4818e-04 - accuracy: 0.9999\n",
      "Epoch 92/100\n",
      "1313/1313 [==============================] - 2s 1ms/step - loss: 1.7871e-04 - accuracy: 1.0000\n",
      "Epoch 93/100\n",
      "1313/1313 [==============================] - 2s 1ms/step - loss: 1.5095e-04 - accuracy: 1.0000\n",
      "Epoch 94/100\n",
      "1313/1313 [==============================] - 2s 1ms/step - loss: 1.0484e-04 - accuracy: 1.0000\n",
      "Epoch 95/100\n",
      "1313/1313 [==============================] - 2s 1ms/step - loss: 9.1621e-05 - accuracy: 1.0000\n",
      "Epoch 96/100\n",
      "1313/1313 [==============================] - 2s 1ms/step - loss: 7.3580e-05 - accuracy: 1.0000\n",
      "Epoch 97/100\n",
      "1313/1313 [==============================] - 2s 1ms/step - loss: 6.2926e-05 - accuracy: 1.0000\n",
      "Epoch 98/100\n",
      "1313/1313 [==============================] - 2s 1ms/step - loss: 5.4247e-05 - accuracy: 1.0000\n",
      "Epoch 99/100\n",
      "1313/1313 [==============================] - 2s 1ms/step - loss: 4.7147e-05 - accuracy: 1.0000\n",
      "Epoch 100/100\n",
      "1313/1313 [==============================] - 2s 1ms/step - loss: 4.0748e-05 - accuracy: 1.0000\n"
     ]
    },
    {
     "output_type": "execute_result",
     "data": {
      "text/plain": [
       "<tensorflow.python.keras.callbacks.History at 0x20ba0be4e50>"
      ]
     },
     "metadata": {},
     "execution_count": 25
    }
   ],
   "metadata": {}
  },
  {
   "cell_type": "markdown",
   "source": [
    "# Image Prediction of Unknown Data (Test Data)"
   ],
   "metadata": {}
  },
  {
   "cell_type": "markdown",
   "source": [
    "## Peparing Test Data\r\n",
    "The test data for the competition needs to be prepared as well as did with the training data set. Therefore the trained pipeline (trained only on the training dataset) will be used."
   ],
   "metadata": {}
  },
  {
   "cell_type": "code",
   "execution_count": 26,
   "source": [
    "X_test_prep = pipeline.transform(X_test)"
   ],
   "outputs": [],
   "metadata": {}
  },
  {
   "cell_type": "code",
   "execution_count": 27,
   "source": [
    "X_test_prep"
   ],
   "outputs": [
    {
     "output_type": "execute_result",
     "data": {
      "text/plain": [
       "array([[0., 0., 0., ..., 0., 0., 0.],\n",
       "       [0., 0., 0., ..., 0., 0., 0.],\n",
       "       [0., 0., 0., ..., 0., 0., 0.],\n",
       "       ...,\n",
       "       [0., 0., 0., ..., 0., 0., 0.],\n",
       "       [0., 0., 0., ..., 0., 0., 0.],\n",
       "       [0., 0., 0., ..., 0., 0., 0.]])"
      ]
     },
     "metadata": {},
     "execution_count": 27
    }
   ],
   "metadata": {}
  },
  {
   "cell_type": "markdown",
   "source": [
    "## Creating Competition File"
   ],
   "metadata": {}
  },
  {
   "cell_type": "code",
   "execution_count": 28,
   "source": [
    "mnist_competition_file = pd.DataFrame(columns=['ImageId','Label'])"
   ],
   "outputs": [],
   "metadata": {}
  },
  {
   "cell_type": "markdown",
   "source": [
    "## Prediction of Testdata"
   ],
   "metadata": {}
  },
  {
   "cell_type": "code",
   "execution_count": 29,
   "source": [
    "plt.imshow(X_test_prep[43].reshape(28,28), cmap='Greys')"
   ],
   "outputs": [
    {
     "output_type": "execute_result",
     "data": {
      "text/plain": [
       "<matplotlib.image.AxesImage at 0x20ba1046a30>"
      ]
     },
     "metadata": {},
     "execution_count": 29
    },
    {
     "output_type": "display_data",
     "data": {
      "text/plain": [
       "<Figure size 432x288 with 1 Axes>"
      ],
      "image/svg+xml": "<?xml version=\"1.0\" encoding=\"utf-8\" standalone=\"no\"?>\r\n<!DOCTYPE svg PUBLIC \"-//W3C//DTD SVG 1.1//EN\"\r\n  \"http://www.w3.org/Graphics/SVG/1.1/DTD/svg11.dtd\">\r\n<!-- Created with matplotlib (https://matplotlib.org/) -->\r\n<svg height=\"248.518125pt\" version=\"1.1\" viewBox=\"0 0 251.565 248.518125\" width=\"251.565pt\" xmlns=\"http://www.w3.org/2000/svg\" xmlns:xlink=\"http://www.w3.org/1999/xlink\">\r\n <metadata>\r\n  <rdf:RDF xmlns:cc=\"http://creativecommons.org/ns#\" xmlns:dc=\"http://purl.org/dc/elements/1.1/\" xmlns:rdf=\"http://www.w3.org/1999/02/22-rdf-syntax-ns#\">\r\n   <cc:Work>\r\n    <dc:type rdf:resource=\"http://purl.org/dc/dcmitype/StillImage\"/>\r\n    <dc:date>2021-08-30T08:49:43.014989</dc:date>\r\n    <dc:format>image/svg+xml</dc:format>\r\n    <dc:creator>\r\n     <cc:Agent>\r\n      <dc:title>Matplotlib v3.3.4, https://matplotlib.org/</dc:title>\r\n     </cc:Agent>\r\n    </dc:creator>\r\n   </cc:Work>\r\n  </rdf:RDF>\r\n </metadata>\r\n <defs>\r\n  <style type=\"text/css\">*{stroke-linecap:butt;stroke-linejoin:round;}</style>\r\n </defs>\r\n <g id=\"figure_1\">\r\n  <g id=\"patch_1\">\r\n   <path d=\"M 0 248.518125 \r\nL 251.565 248.518125 \r\nL 251.565 0 \r\nL 0 0 \r\nz\r\n\" style=\"fill:none;\"/>\r\n  </g>\r\n  <g id=\"axes_1\">\r\n   <g id=\"patch_2\">\r\n    <path d=\"M 26.925 224.64 \r\nL 244.365 224.64 \r\nL 244.365 7.2 \r\nL 26.925 7.2 \r\nz\r\n\" style=\"fill:#ffffff;\"/>\r\n   </g>\r\n   <g clip-path=\"url(#p0b6d1e44c0)\">\r\n    <image height=\"218\" id=\"image06d502cb1a\" transform=\"scale(1 -1)translate(0 -218)\" width=\"218\" x=\"26.925\" xlink:href=\"data:image/png;base64,\r\niVBORw0KGgoAAAANSUhEUgAAANoAAADaCAYAAADAHVzbAAAFlElEQVR4nO3dT4jMfxzH8Z2fn2SRUpS2iJKS0qa4iHJRbsTJQUopbY4ue3JVchBxkLJu5OKguClFObgoUXubg5Lyrwkxv7PyfX9/dsxrd+zjcX312fm27bNvzbeZ7fT7/f4YMFT/zPcFwGIgNAgQGgQIDQKEBgFCgwChQYDQIEBoECA0CBAaBAgNAoQGAUKDAKFBwL/zfQHkffr0qXHbtm1befbHjx/l/vLly3JfuXJluf+t3NEgQGgQIDQIEBoECA0ChAYB3t5fhHq9XuPW7XbLs23fTlj97LExb+8DQyQ0CBAaBAgNAoQGAUKDAKFBgNAgQGgQIDQIEBoECA0ChAYBQoMAoUGA0CBAaBAgNAgQGgQIDQKEBgFCgwChQYDvdeQnbd/b2Lbza+5oECA0CBAaBAgNAoQGAUKDAKFBgOdo/KTT6cz3JfyV3NEgQGgQIDQIEBoECA0ChAYBQoMAoUGA0CBAaBAgNAgQGgQIDQKEBgGL9mMy9+/fL/fZ2dlyX79+/Zz3DRs2lGcnJibKndHjjgYBQoMAoUGA0CBAaBAgNAgQGgSM9HO058+fN26XL18uz16/fr3ch/m1a8uXLy/3VatWlfvVq1fLff/+/b99TQyXOxoECA0ChAYBQoMAoUGA0CBAaBAw0s/RLl261LjduHGjPLt79+5yv3XrVrk/ePCg3MfHxxu36enp8my32y33Q4cOlfu6devK/ejRo41bv98vz7bt/Jo7GgQIDQKEBgFCgwChQYDQIKDTX8Dv17a9zb1169bGrdfrlWefPXtW7pOTk+U+TK9fvy73ixcvlvu1a9f+5OX8pO3P5c2bN+W+du3aP3k5I8MdDQKEBgFCgwChQYDQIEBoECA0CFjQH5N5+/ZtuX/58mXOP3vNmjVzPjtsW7ZsKfcLFy6U+4EDB8r98OHDv31NDMYdDQKEBgFCgwChQYDQIEBoECA0CFjQz9F27NhR7nv27GncHj16VJ6dmpoq93v37pX7fGr7t08TExOhK+H/ckeDAKFBgNAgQGgQIDQIEBoECA0CFvRztDbHjh1r3Nqeo7148aLc3717V+4L+fNsmzZtKvcVK1Y0bp8/fx7otW/fvl3up0+fHujnjyp3NAgQGgQIDQKEBgFCgwChQYDQIGBB/3+0Nt++fWvc9u7dW5598uRJue/atavcnz59Wu7z6f379+W+cePGxu3Dhw/l2bY/l1H+vQ2TOxoECA0ChAYBQoMAoUGA0CBgpD8ms3Tp0sbtypUr5dmdO3eW++zsbLn3er1yb/tKuGFqu/bq2j5+/DjQa7969arcq0cPq1evHui1FzJ3NAgQGgQIDQKEBgFCgwChQYDQIGCkn6NVJicny/3x48flvm/fvnLfvn17uR8/frxxm56eLs8uWbKk3NtUH4MZGxvsK+XOnz9f7tVX2Y2N/d3PyiruaBAgNAgQGgQIDQKEBgFCgwChQcBIf93cMN28ebPcT5w4Meefffbs2XI/cuRIuX/9+rXcz507V+4PHz4s98r379/nfHYxc0eDAKFBgNAgQGgQIDQIEBoECA0CPEdr0PZrmZmZKfeTJ082bm3Potpeu9PplHubZcuWNW537twpzx48eHCg116s3NEgQGgQIDQIEBoECA0ChAYBQoMAz9GG5O7du43bmTNnyrPdbrfcx8fHy31qaqrcT5061bht3ry5PMvcuKNBgNAgQGgQIDQIEBoECA0CvL0PAe5oECA0CBAaBAgNAoQGAUKDAKFBgNAgQGgQIDQIEBoECA0ChAYBQoMAoUGA0CBAaBAgNAgQGgQIDQKEBgFCgwChQYDQIEBoECA0CBAaBAgNAoQGAUKDAKFBgNAgQGgQIDQIEBoECA0ChAYBQoMAoUGA0CBAaBAgNAgQGgQIDQKEBgFCg4D/AFP07GtzN6JmAAAAAElFTkSuQmCC\" y=\"-6.64\"/>\r\n   </g>\r\n   <g id=\"matplotlib.axis_1\">\r\n    <g id=\"xtick_1\">\r\n     <g id=\"line2d_1\">\r\n      <defs>\r\n       <path d=\"M 0 0 \r\nL 0 3.5 \r\n\" id=\"m66333154f9\" style=\"stroke:#000000;stroke-width:0.8;\"/>\r\n      </defs>\r\n      <g>\r\n       <use style=\"stroke:#000000;stroke-width:0.8;\" x=\"30.807857\" xlink:href=\"#m66333154f9\" y=\"224.64\"/>\r\n      </g>\r\n     </g>\r\n     <g id=\"text_1\">\r\n      <!-- 0 -->\r\n      <g transform=\"translate(27.626607 239.238437)scale(0.1 -0.1)\">\r\n       <defs>\r\n        <path d=\"M 31.78125 66.40625 \r\nQ 24.171875 66.40625 20.328125 58.90625 \r\nQ 16.5 51.421875 16.5 36.375 \r\nQ 16.5 21.390625 20.328125 13.890625 \r\nQ 24.171875 6.390625 31.78125 6.390625 \r\nQ 39.453125 6.390625 43.28125 13.890625 \r\nQ 47.125 21.390625 47.125 36.375 \r\nQ 47.125 51.421875 43.28125 58.90625 \r\nQ 39.453125 66.40625 31.78125 66.40625 \r\nz\r\nM 31.78125 74.21875 \r\nQ 44.046875 74.21875 50.515625 64.515625 \r\nQ 56.984375 54.828125 56.984375 36.375 \r\nQ 56.984375 17.96875 50.515625 8.265625 \r\nQ 44.046875 -1.421875 31.78125 -1.421875 \r\nQ 19.53125 -1.421875 13.0625 8.265625 \r\nQ 6.59375 17.96875 6.59375 36.375 \r\nQ 6.59375 54.828125 13.0625 64.515625 \r\nQ 19.53125 74.21875 31.78125 74.21875 \r\nz\r\n\" id=\"DejaVuSans-48\"/>\r\n       </defs>\r\n       <use xlink:href=\"#DejaVuSans-48\"/>\r\n      </g>\r\n     </g>\r\n    </g>\r\n    <g id=\"xtick_2\">\r\n     <g id=\"line2d_2\">\r\n      <g>\r\n       <use style=\"stroke:#000000;stroke-width:0.8;\" x=\"69.636429\" xlink:href=\"#m66333154f9\" y=\"224.64\"/>\r\n      </g>\r\n     </g>\r\n     <g id=\"text_2\">\r\n      <!-- 5 -->\r\n      <g transform=\"translate(66.455179 239.238437)scale(0.1 -0.1)\">\r\n       <defs>\r\n        <path d=\"M 10.796875 72.90625 \r\nL 49.515625 72.90625 \r\nL 49.515625 64.59375 \r\nL 19.828125 64.59375 \r\nL 19.828125 46.734375 \r\nQ 21.96875 47.46875 24.109375 47.828125 \r\nQ 26.265625 48.1875 28.421875 48.1875 \r\nQ 40.625 48.1875 47.75 41.5 \r\nQ 54.890625 34.8125 54.890625 23.390625 \r\nQ 54.890625 11.625 47.5625 5.09375 \r\nQ 40.234375 -1.421875 26.90625 -1.421875 \r\nQ 22.3125 -1.421875 17.546875 -0.640625 \r\nQ 12.796875 0.140625 7.71875 1.703125 \r\nL 7.71875 11.625 \r\nQ 12.109375 9.234375 16.796875 8.0625 \r\nQ 21.484375 6.890625 26.703125 6.890625 \r\nQ 35.15625 6.890625 40.078125 11.328125 \r\nQ 45.015625 15.765625 45.015625 23.390625 \r\nQ 45.015625 31 40.078125 35.4375 \r\nQ 35.15625 39.890625 26.703125 39.890625 \r\nQ 22.75 39.890625 18.8125 39.015625 \r\nQ 14.890625 38.140625 10.796875 36.28125 \r\nz\r\n\" id=\"DejaVuSans-53\"/>\r\n       </defs>\r\n       <use xlink:href=\"#DejaVuSans-53\"/>\r\n      </g>\r\n     </g>\r\n    </g>\r\n    <g id=\"xtick_3\">\r\n     <g id=\"line2d_3\">\r\n      <g>\r\n       <use style=\"stroke:#000000;stroke-width:0.8;\" x=\"108.465\" xlink:href=\"#m66333154f9\" y=\"224.64\"/>\r\n      </g>\r\n     </g>\r\n     <g id=\"text_3\">\r\n      <!-- 10 -->\r\n      <g transform=\"translate(102.1025 239.238437)scale(0.1 -0.1)\">\r\n       <defs>\r\n        <path d=\"M 12.40625 8.296875 \r\nL 28.515625 8.296875 \r\nL 28.515625 63.921875 \r\nL 10.984375 60.40625 \r\nL 10.984375 69.390625 \r\nL 28.421875 72.90625 \r\nL 38.28125 72.90625 \r\nL 38.28125 8.296875 \r\nL 54.390625 8.296875 \r\nL 54.390625 0 \r\nL 12.40625 0 \r\nz\r\n\" id=\"DejaVuSans-49\"/>\r\n       </defs>\r\n       <use xlink:href=\"#DejaVuSans-49\"/>\r\n       <use x=\"63.623047\" xlink:href=\"#DejaVuSans-48\"/>\r\n      </g>\r\n     </g>\r\n    </g>\r\n    <g id=\"xtick_4\">\r\n     <g id=\"line2d_4\">\r\n      <g>\r\n       <use style=\"stroke:#000000;stroke-width:0.8;\" x=\"147.293571\" xlink:href=\"#m66333154f9\" y=\"224.64\"/>\r\n      </g>\r\n     </g>\r\n     <g id=\"text_4\">\r\n      <!-- 15 -->\r\n      <g transform=\"translate(140.931071 239.238437)scale(0.1 -0.1)\">\r\n       <use xlink:href=\"#DejaVuSans-49\"/>\r\n       <use x=\"63.623047\" xlink:href=\"#DejaVuSans-53\"/>\r\n      </g>\r\n     </g>\r\n    </g>\r\n    <g id=\"xtick_5\">\r\n     <g id=\"line2d_5\">\r\n      <g>\r\n       <use style=\"stroke:#000000;stroke-width:0.8;\" x=\"186.122143\" xlink:href=\"#m66333154f9\" y=\"224.64\"/>\r\n      </g>\r\n     </g>\r\n     <g id=\"text_5\">\r\n      <!-- 20 -->\r\n      <g transform=\"translate(179.759643 239.238437)scale(0.1 -0.1)\">\r\n       <defs>\r\n        <path d=\"M 19.1875 8.296875 \r\nL 53.609375 8.296875 \r\nL 53.609375 0 \r\nL 7.328125 0 \r\nL 7.328125 8.296875 \r\nQ 12.9375 14.109375 22.625 23.890625 \r\nQ 32.328125 33.6875 34.8125 36.53125 \r\nQ 39.546875 41.84375 41.421875 45.53125 \r\nQ 43.3125 49.21875 43.3125 52.78125 \r\nQ 43.3125 58.59375 39.234375 62.25 \r\nQ 35.15625 65.921875 28.609375 65.921875 \r\nQ 23.96875 65.921875 18.8125 64.3125 \r\nQ 13.671875 62.703125 7.8125 59.421875 \r\nL 7.8125 69.390625 \r\nQ 13.765625 71.78125 18.9375 73 \r\nQ 24.125 74.21875 28.421875 74.21875 \r\nQ 39.75 74.21875 46.484375 68.546875 \r\nQ 53.21875 62.890625 53.21875 53.421875 \r\nQ 53.21875 48.921875 51.53125 44.890625 \r\nQ 49.859375 40.875 45.40625 35.40625 \r\nQ 44.1875 33.984375 37.640625 27.21875 \r\nQ 31.109375 20.453125 19.1875 8.296875 \r\nz\r\n\" id=\"DejaVuSans-50\"/>\r\n       </defs>\r\n       <use xlink:href=\"#DejaVuSans-50\"/>\r\n       <use x=\"63.623047\" xlink:href=\"#DejaVuSans-48\"/>\r\n      </g>\r\n     </g>\r\n    </g>\r\n    <g id=\"xtick_6\">\r\n     <g id=\"line2d_6\">\r\n      <g>\r\n       <use style=\"stroke:#000000;stroke-width:0.8;\" x=\"224.950714\" xlink:href=\"#m66333154f9\" y=\"224.64\"/>\r\n      </g>\r\n     </g>\r\n     <g id=\"text_6\">\r\n      <!-- 25 -->\r\n      <g transform=\"translate(218.588214 239.238437)scale(0.1 -0.1)\">\r\n       <use xlink:href=\"#DejaVuSans-50\"/>\r\n       <use x=\"63.623047\" xlink:href=\"#DejaVuSans-53\"/>\r\n      </g>\r\n     </g>\r\n    </g>\r\n   </g>\r\n   <g id=\"matplotlib.axis_2\">\r\n    <g id=\"ytick_1\">\r\n     <g id=\"line2d_7\">\r\n      <defs>\r\n       <path d=\"M 0 0 \r\nL -3.5 0 \r\n\" id=\"mba35ce7453\" style=\"stroke:#000000;stroke-width:0.8;\"/>\r\n      </defs>\r\n      <g>\r\n       <use style=\"stroke:#000000;stroke-width:0.8;\" x=\"26.925\" xlink:href=\"#mba35ce7453\" y=\"11.082857\"/>\r\n      </g>\r\n     </g>\r\n     <g id=\"text_7\">\r\n      <!-- 0 -->\r\n      <g transform=\"translate(13.5625 14.882076)scale(0.1 -0.1)\">\r\n       <use xlink:href=\"#DejaVuSans-48\"/>\r\n      </g>\r\n     </g>\r\n    </g>\r\n    <g id=\"ytick_2\">\r\n     <g id=\"line2d_8\">\r\n      <g>\r\n       <use style=\"stroke:#000000;stroke-width:0.8;\" x=\"26.925\" xlink:href=\"#mba35ce7453\" y=\"49.911429\"/>\r\n      </g>\r\n     </g>\r\n     <g id=\"text_8\">\r\n      <!-- 5 -->\r\n      <g transform=\"translate(13.5625 53.710647)scale(0.1 -0.1)\">\r\n       <use xlink:href=\"#DejaVuSans-53\"/>\r\n      </g>\r\n     </g>\r\n    </g>\r\n    <g id=\"ytick_3\">\r\n     <g id=\"line2d_9\">\r\n      <g>\r\n       <use style=\"stroke:#000000;stroke-width:0.8;\" x=\"26.925\" xlink:href=\"#mba35ce7453\" y=\"88.74\"/>\r\n      </g>\r\n     </g>\r\n     <g id=\"text_9\">\r\n      <!-- 10 -->\r\n      <g transform=\"translate(7.2 92.539219)scale(0.1 -0.1)\">\r\n       <use xlink:href=\"#DejaVuSans-49\"/>\r\n       <use x=\"63.623047\" xlink:href=\"#DejaVuSans-48\"/>\r\n      </g>\r\n     </g>\r\n    </g>\r\n    <g id=\"ytick_4\">\r\n     <g id=\"line2d_10\">\r\n      <g>\r\n       <use style=\"stroke:#000000;stroke-width:0.8;\" x=\"26.925\" xlink:href=\"#mba35ce7453\" y=\"127.568571\"/>\r\n      </g>\r\n     </g>\r\n     <g id=\"text_10\">\r\n      <!-- 15 -->\r\n      <g transform=\"translate(7.2 131.36779)scale(0.1 -0.1)\">\r\n       <use xlink:href=\"#DejaVuSans-49\"/>\r\n       <use x=\"63.623047\" xlink:href=\"#DejaVuSans-53\"/>\r\n      </g>\r\n     </g>\r\n    </g>\r\n    <g id=\"ytick_5\">\r\n     <g id=\"line2d_11\">\r\n      <g>\r\n       <use style=\"stroke:#000000;stroke-width:0.8;\" x=\"26.925\" xlink:href=\"#mba35ce7453\" y=\"166.397143\"/>\r\n      </g>\r\n     </g>\r\n     <g id=\"text_11\">\r\n      <!-- 20 -->\r\n      <g transform=\"translate(7.2 170.196362)scale(0.1 -0.1)\">\r\n       <use xlink:href=\"#DejaVuSans-50\"/>\r\n       <use x=\"63.623047\" xlink:href=\"#DejaVuSans-48\"/>\r\n      </g>\r\n     </g>\r\n    </g>\r\n    <g id=\"ytick_6\">\r\n     <g id=\"line2d_12\">\r\n      <g>\r\n       <use style=\"stroke:#000000;stroke-width:0.8;\" x=\"26.925\" xlink:href=\"#mba35ce7453\" y=\"205.225714\"/>\r\n      </g>\r\n     </g>\r\n     <g id=\"text_12\">\r\n      <!-- 25 -->\r\n      <g transform=\"translate(7.2 209.024933)scale(0.1 -0.1)\">\r\n       <use xlink:href=\"#DejaVuSans-50\"/>\r\n       <use x=\"63.623047\" xlink:href=\"#DejaVuSans-53\"/>\r\n      </g>\r\n     </g>\r\n    </g>\r\n   </g>\r\n   <g id=\"patch_3\">\r\n    <path d=\"M 26.925 224.64 \r\nL 26.925 7.2 \r\n\" style=\"fill:none;stroke:#000000;stroke-linecap:square;stroke-linejoin:miter;stroke-width:0.8;\"/>\r\n   </g>\r\n   <g id=\"patch_4\">\r\n    <path d=\"M 244.365 224.64 \r\nL 244.365 7.2 \r\n\" style=\"fill:none;stroke:#000000;stroke-linecap:square;stroke-linejoin:miter;stroke-width:0.8;\"/>\r\n   </g>\r\n   <g id=\"patch_5\">\r\n    <path d=\"M 26.925 224.64 \r\nL 244.365 224.64 \r\n\" style=\"fill:none;stroke:#000000;stroke-linecap:square;stroke-linejoin:miter;stroke-width:0.8;\"/>\r\n   </g>\r\n   <g id=\"patch_6\">\r\n    <path d=\"M 26.925 7.2 \r\nL 244.365 7.2 \r\n\" style=\"fill:none;stroke:#000000;stroke-linecap:square;stroke-linejoin:miter;stroke-width:0.8;\"/>\r\n   </g>\r\n  </g>\r\n </g>\r\n <defs>\r\n  <clipPath id=\"p0b6d1e44c0\">\r\n   <rect height=\"217.44\" width=\"217.44\" x=\"26.925\" y=\"7.2\"/>\r\n  </clipPath>\r\n </defs>\r\n</svg>\r\n",
      "image/png": "[encoded data removed]"
     },
     "metadata": {
      "needs_background": "light"
     }
    }
   ],
   "metadata": {
    "scrolled": true
   }
  },
  {
   "cell_type": "code",
   "execution_count": 30,
   "source": [
    "print(\"Propability of all lables for given pixels: \", keras_reg_model.predict(X_test_prep[43].reshape(1,-1)))"
   ],
   "outputs": [
    {
     "output_type": "stream",
     "name": "stdout",
     "text": [
      "Propability of all lables for given pixels:  [[3.0430380e-14 7.4065907e-20 4.0653533e-14 4.6231248e-11 1.8889117e-09\n",
      "  4.0057953e-13 1.4586070e-18 2.3296422e-11 1.5094590e-14 1.0000000e+00]]\n"
     ]
    }
   ],
   "metadata": {}
  },
  {
   "cell_type": "code",
   "execution_count": 31,
   "source": [
    "print(\"Predicted Digit: \",np.argmax(keras_reg_model.predict(X_test_prep[43].reshape(1,-1))))"
   ],
   "outputs": [
    {
     "output_type": "stream",
     "name": "stdout",
     "text": [
      "Predicted Digit:  9\n"
     ]
    }
   ],
   "metadata": {}
  },
  {
   "cell_type": "code",
   "execution_count": 32,
   "source": [
    "i = 1\r\n",
    "for row in X_test_prep:\r\n",
    "    index = i\r\n",
    "    predicted_label = np.argmax(keras_reg_model.predict(row.reshape(1,-1)))\r\n",
    "\r\n",
    "    mnist_competition_file = mnist_competition_file.append({'ImageId': index, 'Label': predicted_label}, ignore_index = True )\r\n",
    "    i = i + 1\r\n",
    "    pass"
   ],
   "outputs": [],
   "metadata": {}
  },
  {
   "cell_type": "code",
   "execution_count": 33,
   "source": [
    "mnist_competition_file"
   ],
   "outputs": [
    {
     "output_type": "execute_result",
     "data": {
      "text/plain": [
       "      ImageId Label\n",
       "0           1     2\n",
       "1           2     0\n",
       "2           3     9\n",
       "3           4     9\n",
       "4           5     3\n",
       "...       ...   ...\n",
       "27995   27996     9\n",
       "27996   27997     7\n",
       "27997   27998     3\n",
       "27998   27999     9\n",
       "27999   28000     2\n",
       "\n",
       "[28000 rows x 2 columns]"
      ],
      "text/html": [
       "<div>\n",
       "<style scoped>\n",
       "    .dataframe tbody tr th:only-of-type {\n",
       "        vertical-align: middle;\n",
       "    }\n",
       "\n",
       "    .dataframe tbody tr th {\n",
       "        vertical-align: top;\n",
       "    }\n",
       "\n",
       "    .dataframe thead th {\n",
       "        text-align: right;\n",
       "    }\n",
       "</style>\n",
       "<table border=\"1\" class=\"dataframe\">\n",
       "  <thead>\n",
       "    <tr style=\"text-align: right;\">\n",
       "      <th></th>\n",
       "      <th>ImageId</th>\n",
       "      <th>Label</th>\n",
       "    </tr>\n",
       "  </thead>\n",
       "  <tbody>\n",
       "    <tr>\n",
       "      <th>0</th>\n",
       "      <td>1</td>\n",
       "      <td>2</td>\n",
       "    </tr>\n",
       "    <tr>\n",
       "      <th>1</th>\n",
       "      <td>2</td>\n",
       "      <td>0</td>\n",
       "    </tr>\n",
       "    <tr>\n",
       "      <th>2</th>\n",
       "      <td>3</td>\n",
       "      <td>9</td>\n",
       "    </tr>\n",
       "    <tr>\n",
       "      <th>3</th>\n",
       "      <td>4</td>\n",
       "      <td>9</td>\n",
       "    </tr>\n",
       "    <tr>\n",
       "      <th>4</th>\n",
       "      <td>5</td>\n",
       "      <td>3</td>\n",
       "    </tr>\n",
       "    <tr>\n",
       "      <th>...</th>\n",
       "      <td>...</td>\n",
       "      <td>...</td>\n",
       "    </tr>\n",
       "    <tr>\n",
       "      <th>27995</th>\n",
       "      <td>27996</td>\n",
       "      <td>9</td>\n",
       "    </tr>\n",
       "    <tr>\n",
       "      <th>27996</th>\n",
       "      <td>27997</td>\n",
       "      <td>7</td>\n",
       "    </tr>\n",
       "    <tr>\n",
       "      <th>27997</th>\n",
       "      <td>27998</td>\n",
       "      <td>3</td>\n",
       "    </tr>\n",
       "    <tr>\n",
       "      <th>27998</th>\n",
       "      <td>27999</td>\n",
       "      <td>9</td>\n",
       "    </tr>\n",
       "    <tr>\n",
       "      <th>27999</th>\n",
       "      <td>28000</td>\n",
       "      <td>2</td>\n",
       "    </tr>\n",
       "  </tbody>\n",
       "</table>\n",
       "<p>28000 rows × 2 columns</p>\n",
       "</div>"
      ]
     },
     "metadata": {},
     "execution_count": 33
    }
   ],
   "metadata": {}
  },
  {
   "cell_type": "code",
   "execution_count": 34,
   "source": [
    "mnist_competition_file.ImageId = mnist_competition_file.ImageId.astype(int)\r\n",
    "mnist_competition_file.Label = mnist_competition_file.Label.astype(int)"
   ],
   "outputs": [],
   "metadata": {}
  },
  {
   "cell_type": "code",
   "execution_count": 35,
   "source": [
    "mnist_competition_file.to_csv('mnist_submission.csv', index=False)"
   ],
   "outputs": [],
   "metadata": {}
  },
  {
   "cell_type": "code",
   "execution_count": null,
   "source": [],
   "outputs": [],
   "metadata": {}
  }
 ],
 "metadata": {
  "interpreter": {
   "hash": "2b49f70aa2f17b03439dc8f4bbaf601f728142d0d0d774f4bbd10ea7a16b86ea"
  },
  "kernelspec": {
   "name": "python3",
   "display_name": "Python 3.8.10 64-bit ('wingpuflake_keras': conda)"
  },
  "language_info": {
   "codemirror_mode": {
    "name": "ipython",
    "version": 3
   },
   "file_extension": ".py",
   "mimetype": "text/x-python",
   "name": "python",
   "nbconvert_exporter": "python",
   "pygments_lexer": "ipython3",
   "version": "3.8.10"
  }
 },
 "nbformat": 4,
 "nbformat_minor": 5
}