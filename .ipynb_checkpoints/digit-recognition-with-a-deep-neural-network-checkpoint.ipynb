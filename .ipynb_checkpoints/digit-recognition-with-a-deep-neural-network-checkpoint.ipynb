{
 "cells": [
  {
   "cell_type": "code",
   "execution_count": null,
   "metadata": {
    "_cell_guid": "b1076dfc-b9ad-4769-8c92-a6c4dae69d19",
    "_uuid": "8f2839f25d086af736a60e9eeb907d3b93b6e0e5",
    "execution": {
     "iopub.execute_input": "2021-07-22T15:29:25.940192Z",
     "iopub.status.busy": "2021-07-22T15:29:25.939474Z",
     "iopub.status.idle": "2021-07-22T15:29:25.956525Z",
     "shell.execute_reply": "2021-07-22T15:29:25.955326Z",
     "shell.execute_reply.started": "2021-07-22T15:29:25.94015Z"
    }
   },
   "outputs": [],
   "source": [
    "import numpy as np # linear algebra\n",
    "import pandas as pd # data processing, CSV file I/O (e.g. pd.read_csv)\n",
    "import matplotlib.pyplot as plt\n",
    "import seaborn as sn\n",
    "\n",
    "from random import seed\n",
    "seed(1)\n",
    "\n",
    "\n",
    "import tensorflow as tf\n",
    "from tensorflow import keras\n",
    "print(\"Tensorflow Version: \", tf.__version__)\n",
    "\n",
    "\n",
    "kaggle = 1 # Kaggle active 1\n",
    "\n",
    "if kaggle == 1 :\n",
    "    MNIST_PATH= '../input/digit-recognizer'\n",
    "else:\n",
    "    MNIST_PATH= '../Digit_Recognition_with_a_Deep_Neural_Network/data/input/digit-recognizer'\n",
    "\n",
    "\n",
    "\n",
    "%matplotlib inline\n",
    "\n",
    "import os\n",
    "for dirname, _, filenames in os.walk(MNIST_PATH): \n",
    "    for filename in filenames:\n",
    "        print(os.path.join(dirname, filename))"
   ]
  },
  {
   "cell_type": "markdown",
   "metadata": {},
   "source": [
    "# MNIST Training Competition\n",
    "Link to the topic: https://www.kaggle.com/c/digit-recognizer/data"
   ]
  },
  {
   "cell_type": "markdown",
   "metadata": {},
   "source": [
    "# Get Data"
   ]
  },
  {
   "cell_type": "code",
   "execution_count": null,
   "metadata": {
    "execution": {
     "iopub.execute_input": "2021-07-22T15:25:12.522608Z",
     "iopub.status.busy": "2021-07-22T15:25:12.522211Z",
     "iopub.status.idle": "2021-07-22T15:25:18.848177Z",
     "shell.execute_reply": "2021-07-22T15:25:18.847192Z",
     "shell.execute_reply.started": "2021-07-22T15:25:12.522556Z"
    }
   },
   "outputs": [],
   "source": [
    "# Data path and file\n",
    "#MNIST_PATH= '../input/digit-recognizer'\n",
    "#MNIST_PATH= '../Another_MNIST_try/data/input/digit-recognizer'\n",
    "CSV_FILE_TRAIN='train.csv'\n",
    "CSV_FILE_TEST='test.csv'\n",
    "\n",
    "def load_mnist_data(minist_path, csv_file):\n",
    "    csv_path = os.path.join(minist_path, csv_file)\n",
    "    return pd.read_csv(csv_path)\n",
    "\n",
    "def load_mnist_data_manuel(minist_path, csv_file):\n",
    "    csv_path = os.path.join(minist_path, csv_file)\n",
    "    csv_file = open(csv_path, 'r')\n",
    "    csv_data = csv_file.readlines()\n",
    "    csv_file.close()\n",
    "    return csv_data\n",
    "\n",
    "def split_train_val(data, val_ratio):\n",
    "    return \n",
    "    \n",
    "\n",
    "train = load_mnist_data(MNIST_PATH,CSV_FILE_TRAIN)\n",
    "test = load_mnist_data(MNIST_PATH,CSV_FILE_TEST)"
   ]
  },
  {
   "cell_type": "code",
   "execution_count": null,
   "metadata": {
    "execution": {
     "iopub.execute_input": "2021-07-22T15:52:23.527908Z",
     "iopub.status.busy": "2021-07-22T15:52:23.527495Z",
     "iopub.status.idle": "2021-07-22T15:52:23.639317Z",
     "shell.execute_reply": "2021-07-22T15:52:23.637182Z",
     "shell.execute_reply.started": "2021-07-22T15:52:23.527874Z"
    }
   },
   "outputs": [],
   "source": [
    "train[:,1:]"
   ]
  },
  {
   "cell_type": "markdown",
   "metadata": {},
   "source": [
    "## Train / Val Split"
   ]
  },
  {
   "cell_type": "code",
   "execution_count": null,
   "metadata": {},
   "outputs": [],
   "source": [
    "X_train, X_val, y_train, y_val = train_test_split(train,y)"
   ]
  },
  {
   "cell_type": "code",
   "execution_count": null,
   "metadata": {
    "execution": {
     "iopub.execute_input": "2021-07-22T15:35:27.696277Z",
     "iopub.status.busy": "2021-07-22T15:35:27.695481Z",
     "iopub.status.idle": "2021-07-22T15:35:27.702541Z",
     "shell.execute_reply": "2021-07-22T15:35:27.701721Z",
     "shell.execute_reply.started": "2021-07-22T15:35:27.696233Z"
    }
   },
   "outputs": [],
   "source": [
    "train.shape"
   ]
  },
  {
   "cell_type": "code",
   "execution_count": null,
   "metadata": {
    "execution": {
     "iopub.execute_input": "2021-07-22T15:37:34.874074Z",
     "iopub.status.busy": "2021-07-22T15:37:34.872356Z",
     "iopub.status.idle": "2021-07-22T15:37:35.091802Z",
     "shell.execute_reply": "2021-07-22T15:37:35.090165Z",
     "shell.execute_reply.started": "2021-07-22T15:37:34.874001Z"
    }
   },
   "outputs": [],
   "source": [
    "from sklearn.model_selection import train_test_split\n",
    "\n",
    "train_test_split()"
   ]
  },
  {
   "cell_type": "code",
   "execution_count": null,
   "metadata": {},
   "outputs": [],
   "source": []
  }
 ],
 "metadata": {
  "kernelspec": {
   "display_name": "Python 3",
   "language": "python",
   "name": "python3"
  },
  "language_info": {
   "codemirror_mode": {
    "name": "ipython",
    "version": 3
   },
   "file_extension": ".py",
   "mimetype": "text/x-python",
   "name": "python",
   "nbconvert_exporter": "python",
   "pygments_lexer": "ipython3",
   "version": "3.6.12"
  }
 },
 "nbformat": 4,
 "nbformat_minor": 4
}
